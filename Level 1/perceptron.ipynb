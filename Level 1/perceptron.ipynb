{
 "cells": [
  {
   "cell_type": "markdown",
   "metadata": {},
   "source": [
    "# Coding perceptron from scratch"
   ]
  },
  {
   "cell_type": "code",
   "execution_count": 2,
   "metadata": {},
   "outputs": [],
   "source": [
    "import numpy as np\n",
    "import pandas as pd"
   ]
  },
  {
   "cell_type": "code",
   "execution_count": 3,
   "metadata": {},
   "outputs": [
    {
     "data": {
      "text/html": [
       "<div>\n",
       "<style scoped>\n",
       "    .dataframe tbody tr th:only-of-type {\n",
       "        vertical-align: middle;\n",
       "    }\n",
       "\n",
       "    .dataframe tbody tr th {\n",
       "        vertical-align: top;\n",
       "    }\n",
       "\n",
       "    .dataframe thead th {\n",
       "        text-align: right;\n",
       "    }\n",
       "</style>\n",
       "<table border=\"1\" class=\"dataframe\">\n",
       "  <thead>\n",
       "    <tr style=\"text-align: right;\">\n",
       "      <th></th>\n",
       "      <th>x1</th>\n",
       "      <th>x2</th>\n",
       "      <th>x3</th>\n",
       "      <th>x4</th>\n",
       "      <th>y</th>\n",
       "    </tr>\n",
       "  </thead>\n",
       "  <tbody>\n",
       "    <tr>\n",
       "      <th>0</th>\n",
       "      <td>-1.530368</td>\n",
       "      <td>-1.395907</td>\n",
       "      <td>1.419720</td>\n",
       "      <td>-0.996312</td>\n",
       "      <td>1</td>\n",
       "    </tr>\n",
       "    <tr>\n",
       "      <th>1</th>\n",
       "      <td>1.107104</td>\n",
       "      <td>-2.405355</td>\n",
       "      <td>-1.608012</td>\n",
       "      <td>0.323715</td>\n",
       "      <td>1</td>\n",
       "    </tr>\n",
       "    <tr>\n",
       "      <th>2</th>\n",
       "      <td>0.254612</td>\n",
       "      <td>-0.219718</td>\n",
       "      <td>0.381786</td>\n",
       "      <td>0.436999</td>\n",
       "      <td>1</td>\n",
       "    </tr>\n",
       "    <tr>\n",
       "      <th>3</th>\n",
       "      <td>-0.777553</td>\n",
       "      <td>-1.121721</td>\n",
       "      <td>0.144464</td>\n",
       "      <td>0.233700</td>\n",
       "      <td>1</td>\n",
       "    </tr>\n",
       "    <tr>\n",
       "      <th>4</th>\n",
       "      <td>-1.316369</td>\n",
       "      <td>-1.052767</td>\n",
       "      <td>-1.240032</td>\n",
       "      <td>-1.141212</td>\n",
       "      <td>1</td>\n",
       "    </tr>\n",
       "  </tbody>\n",
       "</table>\n",
       "</div>"
      ],
      "text/plain": [
       "         x1        x2        x3        x4  y\n",
       "0 -1.530368 -1.395907  1.419720 -0.996312  1\n",
       "1  1.107104 -2.405355 -1.608012  0.323715  1\n",
       "2  0.254612 -0.219718  0.381786  0.436999  1\n",
       "3 -0.777553 -1.121721  0.144464  0.233700  1\n",
       "4 -1.316369 -1.052767 -1.240032 -1.141212  1"
      ]
     },
     "execution_count": 3,
     "metadata": {},
     "output_type": "execute_result"
    }
   ],
   "source": [
    "x=np.random.randn(100,4)\n",
    "y=np.random.randint(0,2,size=(100,1))\n",
    "\n",
    "df=pd.DataFrame(x,columns=['x1','x2','x3','x4'])\n",
    "df['y']=y\n",
    "df.head()"
   ]
  },
  {
   "cell_type": "code",
   "execution_count": 4,
   "metadata": {},
   "outputs": [],
   "source": [
    "def step(y):\n",
    "    if y>0:\n",
    "        return 1\n",
    "    else:\n",
    "        return 0\n",
    "    "
   ]
  },
  {
   "cell_type": "code",
   "execution_count": 5,
   "metadata": {},
   "outputs": [],
   "source": [
    "\n",
    "def perceptron(x,y,epoch):\n",
    "    x=np.insert(x,0,1,axis=1)\n",
    "    l_rate = 0.1\n",
    "    weights=np.ones(x.shape[1])\n",
    "    for _ in range(epoch):\n",
    "        j_th_value=np.random.randint(0,x.shape[0]) # Randomly select a row\n",
    "        y_bar=step(np.dot(x[j_th_value],weights)) # Predicted value. Then step function converts to 1 or 0\n",
    "        # Update weights only if misclassified\n",
    "        if y[j_th_value] != y_bar:\n",
    "            weights=weights+l_rate*(y[j_th_value]-y_bar)*x[j_th_value]\n",
    "        \n",
    "    return weights[0],weights[1:]"
   ]
  },
  {
   "cell_type": "code",
   "execution_count": 6,
   "metadata": {},
   "outputs": [],
   "source": [
    "intercept,weights=perceptron(df[['x1','x2','x3','x4']].values,df['y'].values,100)"
   ]
  },
  {
   "cell_type": "code",
   "execution_count": 7,
   "metadata": {},
   "outputs": [
    {
     "name": "stdout",
     "output_type": "stream",
     "text": [
      "-0.19999999999999987 [-0.18661975  0.0312135   0.19991857  0.00562221]\n"
     ]
    }
   ],
   "source": [
    "print(intercept,weights)"
   ]
  },
  {
   "cell_type": "markdown",
   "metadata": {},
   "source": [
    "# Updated Code with Gradient Descent funcionality"
   ]
  },
  {
   "cell_type": "code",
   "execution_count": 10,
   "metadata": {},
   "outputs": [
    {
     "data": {
      "text/html": [
       "<div>\n",
       "<style scoped>\n",
       "    .dataframe tbody tr th:only-of-type {\n",
       "        vertical-align: middle;\n",
       "    }\n",
       "\n",
       "    .dataframe tbody tr th {\n",
       "        vertical-align: top;\n",
       "    }\n",
       "\n",
       "    .dataframe thead th {\n",
       "        text-align: right;\n",
       "    }\n",
       "</style>\n",
       "<table border=\"1\" class=\"dataframe\">\n",
       "  <thead>\n",
       "    <tr style=\"text-align: right;\">\n",
       "      <th></th>\n",
       "      <th>x1</th>\n",
       "      <th>x2</th>\n",
       "      <th>y</th>\n",
       "    </tr>\n",
       "  </thead>\n",
       "  <tbody>\n",
       "    <tr>\n",
       "      <th>0</th>\n",
       "      <td>1.399925</td>\n",
       "      <td>0.387300</td>\n",
       "      <td>1</td>\n",
       "    </tr>\n",
       "    <tr>\n",
       "      <th>1</th>\n",
       "      <td>-0.375796</td>\n",
       "      <td>-2.660690</td>\n",
       "      <td>1</td>\n",
       "    </tr>\n",
       "    <tr>\n",
       "      <th>2</th>\n",
       "      <td>0.092080</td>\n",
       "      <td>-1.148152</td>\n",
       "      <td>0</td>\n",
       "    </tr>\n",
       "    <tr>\n",
       "      <th>3</th>\n",
       "      <td>-0.170057</td>\n",
       "      <td>-0.230855</td>\n",
       "      <td>0</td>\n",
       "    </tr>\n",
       "    <tr>\n",
       "      <th>4</th>\n",
       "      <td>-0.127772</td>\n",
       "      <td>-0.330447</td>\n",
       "      <td>1</td>\n",
       "    </tr>\n",
       "  </tbody>\n",
       "</table>\n",
       "</div>"
      ],
      "text/plain": [
       "         x1        x2  y\n",
       "0  1.399925  0.387300  1\n",
       "1 -0.375796 -2.660690  1\n",
       "2  0.092080 -1.148152  0\n",
       "3 -0.170057 -0.230855  0\n",
       "4 -0.127772 -0.330447  1"
      ]
     },
     "execution_count": 10,
     "metadata": {},
     "output_type": "execute_result"
    }
   ],
   "source": [
    "x=np.random.randn(100,2)\n",
    "y=np.random.randint(0,2,size=(100,1))\n",
    "\n",
    "df=pd.DataFrame(x,columns=['x1','x2'])\n",
    "df['y']=y\n",
    "df.head()"
   ]
  },
  {
   "cell_type": "code",
   "execution_count": 11,
   "metadata": {},
   "outputs": [],
   "source": [
    "def perceptron(x, y, epoch):\n",
    "    \n",
    "    w1 = w2 = b = 1  # Initialize weights and bias to 1\n",
    "    lr = .01  # Set learning rate\n",
    "    for _ in range(epoch):  # Iterate through the dataset 'epoch' times\n",
    "        \n",
    "        for i in range(x.shape[0]):  # Iterate through each data point\n",
    "            \n",
    "            z = w1 * x[i][0] + w2 * x[i][1] + b  # Calculate the weighted sum\n",
    "            \n",
    "            if (z * y[i] < 0):  # Check if the prediction is incorrect\n",
    "                w1 = w1 + lr * (y[i] * x[i][0])  # Update w1 if incorrect\n",
    "                w2 = w2 + lr * (y[i] * x[i][1])  # Update w2 if incorrect\n",
    "                b = b + lr * y[i]  # Update bias if incorrect\n",
    "    return w1, w2, b  # Return the learned weights and bias\n",
    "                "
   ]
  },
  {
   "cell_type": "code",
   "execution_count": 12,
   "metadata": {},
   "outputs": [],
   "source": [
    "w1,w2,b=perceptron(df[['x1','x2']].values,df['y'].values,100)"
   ]
  },
  {
   "cell_type": "code",
   "execution_count": 13,
   "metadata": {},
   "outputs": [
    {
     "name": "stdout",
     "output_type": "stream",
     "text": [
      "0.3530015954128809 0.3525625360978144 1.4600000000000004\n"
     ]
    }
   ],
   "source": [
    "print(w1,w2,b)"
   ]
  },
  {
   "cell_type": "code",
   "execution_count": null,
   "metadata": {},
   "outputs": [],
   "source": []
  }
 ],
 "metadata": {
  "kernelspec": {
   "display_name": "Python 3",
   "language": "python",
   "name": "python3"
  },
  "language_info": {
   "codemirror_mode": {
    "name": "ipython",
    "version": 3
   },
   "file_extension": ".py",
   "mimetype": "text/x-python",
   "name": "python",
   "nbconvert_exporter": "python",
   "pygments_lexer": "ipython3",
   "version": "3.11.8"
  }
 },
 "nbformat": 4,
 "nbformat_minor": 2
}
