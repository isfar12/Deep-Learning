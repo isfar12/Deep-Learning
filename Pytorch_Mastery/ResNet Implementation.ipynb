{
 "cells": [
  {
   "cell_type": "markdown",
   "id": "d80ac13c",
   "metadata": {},
   "source": [
    "When we train very deep neural networks, they often struggle to learn. Adding more layers doesn’t always make the model smarter — it can actually make it worse, because information gets “washed out” or distorted as it travels through so many layers."
   ]
  },
  {
   "cell_type": "markdown",
   "id": "4b0797bb",
   "metadata": {},
   "source": [
    "<figure>\n",
    "  <img src=\"asset/super_resolution.png\" alt=\"Super Resolution\" width=\"520\">\n",
    "</figure>\n",
    "<figure>\n",
    "  <img src=\"asset/how_to_upsample.png\" alt=\"How to update Resolution\" width=\"520\">\n",
    "</figure>\n",
    "<figure>\n",
    "  <img src=\"asset/image_minus.png\" alt=\"Image minus to get  Redisual\" width=\"520\">\n",
    "</figure>\n",
    "<figure>\n",
    "  <img src=\"asset/residual_update.png\" alt=\"Super Resolution\" width=\"520\">\n",
    "</figure>"
   ]
  },
  {
   "cell_type": "markdown",
   "id": "75ce8afd",
   "metadata": {},
   "source": [
    "\n",
    "### 1. The Key Idea: Learn the *Difference*, Not the Whole Thing\n",
    "\n",
    "Look at the middle panels:\n",
    "\n",
    "You see one image being subtracted from another, producing a *noisy difference pattern*. That “difference” represents the **residual** — the *small tweak* or *correction* needed to turn one image into the other.\n",
    "\n",
    "So instead of learning:\n",
    "\n",
    "> \"How to create the new image from scratch\"\n",
    "\n",
    "the network learns:\n",
    "\n",
    "> \"What needs to change from the input image to get the desired result.\"\n",
    "\n",
    "This is a much easier task for optimization.\n",
    "\n",
    "---\n",
    "\n",
    "### 2. The Skip (Shortcut) Connection\n",
    "\n",
    "In the final panel, you see the original image being **added** to the “difference” image (the residual).\n",
    "That’s exactly what a **ResNet block** does:\n",
    "\n",
    "> Output = Input + Residual\n",
    "\n",
    "Here, the residual is the output of some small stack of layers — say, two convolutional layers — that learn what extra detail should be added.\n",
    "\n",
    "This simple addition (a **skip connection**) lets the original information flow straight through the network, untouched. The model only needs to learn the adjustments — just like small brushstrokes refining a painting.\n"
   ]
  },
  {
   "cell_type": "markdown",
   "id": "8a146af5",
   "metadata": {},
   "source": [
    "<figure>\n",
    "  <img src=\"asset/ResNet.PNG\" alt=\"Super Resolution\" width=\"800\">\n",
    "</figure>\n",
    "\n",
    "<figure>\n",
    "  <img src=\"asset/residual_block.png\" alt=\"Super Resolution\" width=\"520\">\n",
    "</figure>\n",
    "<figure>\n",
    "  <img src=\"asset/residual_block_two_methods.png\" alt=\"Super Resolution\" width=\"520\">\n",
    "</figure>\n",
    "\n",
    "| Version   | Diagram         | Name            | Used In                    | Key Feature                   |\n",
    "| --------- | --------------- | --------------- | -------------------------- | ----------------------------- |\n",
    "| **Left**  | Post-activation | Original ResNet | ResNet-18/34/50/101        | Activation after addition     |\n",
    "| **Right** | Pre-activation  | Improved ResNet | ResNet-v2 / later versions | Activation before convolution |\n",
    "\n",
    "In modern practice, the right one (pre-activation) is considered the better design, because it stabilizes training for deeper architectures and simplifies the residual mapping."
   ]
  },
  {
   "cell_type": "code",
   "execution_count": 1,
   "id": "17a9150c",
   "metadata": {},
   "outputs": [],
   "source": [
    "import torch \n",
    "import torch.nn as nn"
   ]
  },
  {
   "cell_type": "code",
   "execution_count": null,
   "id": "1456d8eb",
   "metadata": {},
   "outputs": [],
   "source": []
  }
 ],
 "metadata": {
  "kernelspec": {
   "display_name": "Python 3",
   "language": "python",
   "name": "python3"
  },
  "language_info": {
   "codemirror_mode": {
    "name": "ipython",
    "version": 3
   },
   "file_extension": ".py",
   "mimetype": "text/x-python",
   "name": "python",
   "nbconvert_exporter": "python",
   "pygments_lexer": "ipython3",
   "version": "3.12.3"
  }
 },
 "nbformat": 4,
 "nbformat_minor": 5
}
