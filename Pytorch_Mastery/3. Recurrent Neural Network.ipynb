{
 "cells": [
  {
   "cell_type": "markdown",
   "id": "a92dc24c",
   "metadata": {},
   "source": [
    "# Recurrent Neural Networks (RNN) Tutorial\n",
    "\n",
    "## Overview\n",
    "This notebook demonstrates two different approaches to building RNNs in PyTorch:\n",
    "1. **Method 1**: Manual RNN implementation from scratch\n",
    "2. **Method 2**: Using PyTorch's built-in `nn.RNN` module\n",
    "\n",
    "We'll solve two problems:\n",
    "- **Problem 1**: Name Classification (predicting nationality from names) - Using Method 1\n",
    "- **Problem 2**: Image Classification (CIFAR-10 using RNNs) - Using Method 2\n",
    "\n",
    "---\n",
    "\n",
    "## Table of Contents\n",
    "1. [Introduction & Key Concepts](#intro)\n",
    "2. [Problem 1: Name Classification (Manual RNN)](#problem1)\n",
    "3. [Problem 2: Image Classification (Built-in RNN)](#problem2)\n",
    "4. [Summary & Comparison](#summary)"
   ]
  },
  {
   "cell_type": "markdown",
   "id": "b7149006",
   "metadata": {},
   "source": [
    "<a id='intro'></a>\n",
    "# Part 1: Introduction & Key Concepts\n",
    "\n",
    "## What is an RNN?\n",
    "A Recurrent Neural Network processes sequential data by maintaining a \"hidden state\" that gets updated at each time step. This allows the network to have \"memory\" of previous inputs.\n",
    "<figure>\n",
    "  <img src=\"asset/rnn_unfolded.png\" alt=\"Grouped conv\" width=\"520\">\n",
    "  <figcaption>RNN's Prediction Workflow</figcaption>\n",
    "</figure>\n",
    "\n",
    "### RNN Processing Flow\n",
    "For a sequence like \"Albert\":\n",
    "1. Process 'A' → update hidden state\n",
    "2. Process 'l' with previous hidden state → update hidden state\n",
    "3. Process 'b' with previous hidden state → update hidden state\n",
    "4. Continue for 'e', 'r', 't'\n",
    "5. Use final hidden state for prediction\n",
    "\n",
    "### Input Shape for RNNs\n",
    "- **Method 1 (Manual)**: Process one time step at a time `(batch_size, features)`\n",
    "- **Method 2 (Built-in)**: Process entire sequence `(batch_size, sequence_length, features)`"
   ]
  },
  {
   "cell_type": "code",
   "execution_count": 17,
   "id": "03663edf",
   "metadata": {},
   "outputs": [
    {
     "name": "stdout",
     "output_type": "stream",
     "text": [
      "Using device: cpu\n"
     ]
    }
   ],
   "source": [
    "# Import required libraries\n",
    "import torch\n",
    "import torch.nn as nn\n",
    "import torch.nn.functional as F\n",
    "from torch.optim import Adam\n",
    "from torch.utils.data import DataLoader, TensorDataset, Dataset\n",
    "\n",
    "import string\n",
    "import unicodedata\n",
    "from io import open\n",
    "import glob\n",
    "import os\n",
    "import time\n",
    "import random\n",
    "import numpy as np\n",
    "import matplotlib.pyplot as plt\n",
    "import matplotlib.ticker as ticker\n",
    "from torchvision import datasets, transforms\n",
    "\n",
    "# Check device\n",
    "device = torch.device('cuda' if torch.cuda.is_available() else 'cpu')\n",
    "torch.set_default_device(device)\n",
    "print(f\"Using device: {device}\")"
   ]
  },
  {
   "cell_type": "markdown",
   "id": "e22cf229",
   "metadata": {},
   "source": [
    "## Method Comparison Overview\n",
    "\n",
    "| Aspect | Method 1 (Manual) | Method 2 (Built-in) |\n",
    "|--------|-------------------|---------------------|\n",
    "| **Implementation** | Build RNN from scratch | Use `nn.RNN` |\n",
    "| **Looping** | Manual external loop | Automatic internal |\n",
    "| **Speed** | Slower | Faster (optimized) |\n",
    "| **Control** | Full control | Standard behavior |\n",
    "| **Input Shape** | `(1, features)` per step | `(batch, seq_len, features)` |\n",
    "| **Best For** | Learning, custom cells | Production, standard tasks |"
   ]
  },
  {
   "cell_type": "markdown",
   "id": "1ff14853",
   "metadata": {},
   "source": [
    "<a id='problem1'></a>\n",
    "# Part 2: Problem 1 - Name Classification\n",
    "\n",
    "## Using Method 1: Manual RNN Implementation\n",
    "\n",
    "**Goal**: Predict the nationality of a person based on their name.\n",
    "\n",
    "**Dataset**: Names from 18 different countries\n",
    "\n",
    "**Approach**: Build an RNN from scratch that processes names character-by-character"
   ]
  },
  {
   "cell_type": "markdown",
   "id": "bf3602ce",
   "metadata": {},
   "source": [
    "<figure>\n",
    "  <img src=\"asset/rnn_workflow.png\" alt=\"Grouped conv\" width=\"520\">\n",
    "  <figcaption>RNN's Workflow In Manual Progress</figcaption>\n",
    "</figure>"
   ]
  },
  {
   "cell_type": "markdown",
   "id": "49d0d52d",
   "metadata": {},
   "source": [
    "## Step 1: Data Preparation - Text Processing\n",
    "\n",
    "We need to convert text (names) into numerical tensors that PyTorch can process."
   ]
  },
  {
   "cell_type": "code",
   "execution_count": 18,
   "id": "78cbf32a",
   "metadata": {},
   "outputs": [
    {
     "name": "stdout",
     "output_type": "stream",
     "text": [
      "Vocabulary size: 58 characters\n",
      "Characters: abcdefghijklmnopqrstuvwxyzABCDEFGHIJKLMNOPQRSTUVWXYZ .,;'_\n"
     ]
    }
   ],
   "source": [
    "# Define allowed characters\n",
    "# We can use \"_\" to represent an out-of-vocabulary character\n",
    "allowed_characters = string.ascii_letters + \" .,;'\" + \"_\"\n",
    "n_letters = len(allowed_characters)\n",
    "print(f\"Vocabulary size: {n_letters} characters\")\n",
    "print(f\"Characters: {allowed_characters}\")"
   ]
  },
  {
   "cell_type": "code",
   "execution_count": 19,
   "id": "11d71eb4",
   "metadata": {},
   "outputs": [
    {
     "name": "stdout",
     "output_type": "stream",
     "text": [
      "Converting 'Ślusàrski' to 'Slusarski'\n"
     ]
    }
   ],
   "source": [
    "# Turn a Unicode string to plain ASCII\n",
    "def unicodeToAscii(s):\n",
    "    return ''.join(\n",
    "        c for c in unicodedata.normalize('NFD', s)\n",
    "        if unicodedata.category(c) != 'Mn'\n",
    "        and c in allowed_characters\n",
    "    )\n",
    "\n",
    "# Test the function\n",
    "print(f\"Converting 'Ślusàrski' to '{unicodeToAscii('Ślusàrski')}'\")"
   ]
  },
  {
   "cell_type": "code",
   "execution_count": 20,
   "id": "2f70dcec",
   "metadata": {},
   "outputs": [
    {
     "name": "stdout",
     "output_type": "stream",
     "text": [
      "The letter 'a' becomes:\n",
      "tensor([[[1., 0., 0., 0., 0., 0., 0., 0., 0., 0., 0., 0., 0., 0., 0., 0., 0.,\n",
      "          0., 0., 0., 0., 0., 0., 0., 0., 0., 0., 0., 0., 0., 0., 0., 0., 0.,\n",
      "          0., 0., 0., 0., 0., 0., 0., 0., 0., 0., 0., 0., 0., 0., 0., 0., 0.,\n",
      "          0., 0., 0., 0., 0., 0., 0.]]])\n",
      "\n",
      "Shape for 'Albert': torch.Size([6, 1, 58])\n"
     ]
    }
   ],
   "source": [
    "# Find letter index from allowed_characters, e.g. \"a\" = 0\n",
    "def letterToIndex(letter):\n",
    "    if letter not in allowed_characters:\n",
    "        return allowed_characters.find(\"_\")  # Return out-of-vocabulary character\n",
    "    else:\n",
    "        return allowed_characters.find(letter)\n",
    "\n",
    "# Turn a line into a <line_length x 1 x n_letters> tensor\n",
    "# This is one-hot encoding for each character\n",
    "def lineToTensor(line):\n",
    "    tensor = torch.zeros(len(line), 1, n_letters)\n",
    "    for li, letter in enumerate(line):\n",
    "        tensor[li][0][letterToIndex(letter)] = 1\n",
    "    return tensor\n",
    "\n",
    "# Test the encoding\n",
    "print(f\"The letter 'a' becomes:\\n{lineToTensor('a')}\")\n",
    "print(f\"\\nShape for 'Albert': {lineToTensor('Albert').shape}\")"
   ]
  },
  {
   "cell_type": "markdown",
   "id": "58c16266",
   "metadata": {},
   "source": [
    "### Understanding One-Hot Encoding\n",
    "\n",
    "- Each character is represented as a vector of length 58 (our vocabulary size)\n",
    "- Only one position is set to 1, all others are 0\n",
    "- Example: 'a' → [1, 0, 0, ..., 0], 'b' → [0, 1, 0, ..., 0]\n",
    "\n",
    "For the name \"Albert\":\n",
    "- Shape: `(6, 1, 58)` → 6 characters, batch size 1, 58-dimensional encoding"
   ]
  },
  {
   "cell_type": "markdown",
   "id": "0f9e648e",
   "metadata": {},
   "source": [
    "## Step 2: Create Dataset Class"
   ]
  },
  {
   "cell_type": "code",
   "execution_count": 21,
   "id": "feee6f5d",
   "metadata": {},
   "outputs": [],
   "source": [
    "class NamesDataset(Dataset):\n",
    "    def __init__(self, data_dir):\n",
    "        self.data_dir = data_dir\n",
    "        self.load_time = time.localtime\n",
    "        labels_set = set()\n",
    "\n",
    "        self.data = []\n",
    "        self.data_tensors = []\n",
    "        self.labels = []\n",
    "        self.labels_tensors = []\n",
    "\n",
    "        # Read all .txt files in the specified directory\n",
    "        text_files = glob.glob(os.path.join(data_dir, '*.txt'))\n",
    "        for filename in text_files:\n",
    "            label = os.path.splitext(os.path.basename(filename))[0]\n",
    "            labels_set.add(label)\n",
    "            lines = open(filename, encoding='utf-8').read().strip().split('\\n')\n",
    "            for name in lines:\n",
    "                self.data.append(name)\n",
    "                self.data_tensors.append(lineToTensor(name))\n",
    "                self.labels.append(label)\n",
    "\n",
    "        # Cache the tensor representation of the labels\n",
    "        self.labels_uniq = list(labels_set)\n",
    "        for idx in range(len(self.labels)):\n",
    "            temp_tensor = torch.tensor([self.labels_uniq.index(self.labels[idx])], dtype=torch.long)\n",
    "            self.labels_tensors.append(temp_tensor)\n",
    "\n",
    "    def __len__(self):\n",
    "        return len(self.data)\n",
    "\n",
    "    def __getitem__(self, idx):\n",
    "        return self.labels_tensors[idx], self.data_tensors[idx], self.labels[idx], self.data[idx]"
   ]
  },
  {
   "cell_type": "markdown",
   "id": "b44f1ba4",
   "metadata": {},
   "source": [
    "## Step 3: Load and Split Data"
   ]
  },
  {
   "cell_type": "code",
   "execution_count": 22,
   "id": "c4147738",
   "metadata": {},
   "outputs": [
    {
     "name": "stdout",
     "output_type": "stream",
     "text": [
      "Loaded 20074 names\n",
      "Number of nationalities: 18\n",
      "Nationalities: ['Chinese', 'Polish', 'Japanese', 'Portuguese', 'Russian', 'English', 'Czech', 'Korean', 'Spanish', 'Italian', 'French', 'Vietnamese', 'German', 'Greek', 'Dutch', 'Irish', 'Arabic', 'Scottish']\n",
      "\n",
      "Example: (tensor([16]), tensor([[[0., 0., 0., 0., 0., 0., 0., 0., 0., 0., 0., 0., 0., 0., 0., 0., 0.,\n",
      "          0., 0., 0., 0., 0., 0., 0., 0., 0., 0., 0., 0., 0., 0., 0., 0., 0.,\n",
      "          0., 0., 1., 0., 0., 0., 0., 0., 0., 0., 0., 0., 0., 0., 0., 0., 0.,\n",
      "          0., 0., 0., 0., 0., 0., 0.]],\n",
      "\n",
      "        [[0., 0., 0., 0., 0., 0., 0., 1., 0., 0., 0., 0., 0., 0., 0., 0., 0.,\n",
      "          0., 0., 0., 0., 0., 0., 0., 0., 0., 0., 0., 0., 0., 0., 0., 0., 0.,\n",
      "          0., 0., 0., 0., 0., 0., 0., 0., 0., 0., 0., 0., 0., 0., 0., 0., 0.,\n",
      "          0., 0., 0., 0., 0., 0., 0.]],\n",
      "\n",
      "        [[0., 0., 0., 0., 0., 0., 0., 0., 0., 0., 0., 0., 0., 0., 1., 0., 0.,\n",
      "          0., 0., 0., 0., 0., 0., 0., 0., 0., 0., 0., 0., 0., 0., 0., 0., 0.,\n",
      "          0., 0., 0., 0., 0., 0., 0., 0., 0., 0., 0., 0., 0., 0., 0., 0., 0.,\n",
      "          0., 0., 0., 0., 0., 0., 0.]],\n",
      "\n",
      "        [[0., 0., 0., 0., 0., 0., 0., 0., 0., 0., 0., 0., 0., 0., 0., 0., 0.,\n",
      "          0., 0., 0., 1., 0., 0., 0., 0., 0., 0., 0., 0., 0., 0., 0., 0., 0.,\n",
      "          0., 0., 0., 0., 0., 0., 0., 0., 0., 0., 0., 0., 0., 0., 0., 0., 0.,\n",
      "          0., 0., 0., 0., 0., 0., 0.]],\n",
      "\n",
      "        [[0., 0., 0., 0., 0., 0., 0., 0., 0., 0., 0., 0., 0., 0., 0., 0., 0.,\n",
      "          1., 0., 0., 0., 0., 0., 0., 0., 0., 0., 0., 0., 0., 0., 0., 0., 0.,\n",
      "          0., 0., 0., 0., 0., 0., 0., 0., 0., 0., 0., 0., 0., 0., 0., 0., 0.,\n",
      "          0., 0., 0., 0., 0., 0., 0.]],\n",
      "\n",
      "        [[0., 0., 0., 0., 0., 0., 0., 0., 0., 0., 0., 0., 0., 0., 0., 0., 0.,\n",
      "          0., 0., 0., 0., 0., 0., 0., 1., 0., 0., 0., 0., 0., 0., 0., 0., 0.,\n",
      "          0., 0., 0., 0., 0., 0., 0., 0., 0., 0., 0., 0., 0., 0., 0., 0., 0.,\n",
      "          0., 0., 0., 0., 0., 0., 0.]]]), 'Arabic', 'Khoury')\n"
     ]
    }
   ],
   "source": [
    "# Load the names dataset\n",
    "alldata = NamesDataset(\"data/names\")\n",
    "print(f\"Loaded {len(alldata)} names\")\n",
    "print(f\"Number of nationalities: {len(alldata.labels_uniq)}\")\n",
    "print(f\"Nationalities: {alldata.labels_uniq}\")\n",
    "print(f\"\\nExample: {alldata[0]}\")"
   ]
  },
  {
   "cell_type": "code",
   "execution_count": 23,
   "id": "fb5d8ad6",
   "metadata": {},
   "outputs": [
    {
     "name": "stdout",
     "output_type": "stream",
     "text": [
      "Training examples: 17063\n",
      "Testing examples: 3011\n"
     ]
    }
   ],
   "source": [
    "# Split into train and test sets\n",
    "train_set, test_set = torch.utils.data.random_split(\n",
    "    alldata, [.85, .15], \n",
    "    generator=torch.Generator(device=device).manual_seed(2024)\n",
    ")\n",
    "print(f\"Training examples: {len(train_set)}\")\n",
    "print(f\"Testing examples: {len(test_set)}\")"
   ]
  },
  {
   "cell_type": "markdown",
   "id": "44477b0e",
   "metadata": {},
   "source": [
    "## Step 4: Define Manual RNN Model\n",
    "\n",
    "This RNN processes sequences **one character at a time**. It combines the current input with the previous hidden state to make predictions."
   ]
  },
  {
   "cell_type": "code",
   "execution_count": 24,
   "id": "09ce704e",
   "metadata": {},
   "outputs": [],
   "source": [
    "class RNNModel(nn.Module):\n",
    "    def __init__(self, input_size, hidden_size, output_size):\n",
    "        super(RNNModel, self).__init__()\n",
    "        self.hidden_size = hidden_size\n",
    "        \n",
    "        # Combine input and hidden state, then transform\n",
    "        self.input_to_hidden = nn.Linear(input_size + hidden_size, hidden_size)\n",
    "        self.input_to_output = nn.Linear(input_size + hidden_size, output_size)\n",
    "        self.softmax = nn.LogSoftmax(dim=1)\n",
    "        \n",
    "    def forward(self, input_tensor, hidden_tensor):\n",
    "        # Concatenate input with hidden state\n",
    "        combined = torch.cat((input_tensor, hidden_tensor), 1)\n",
    "        \n",
    "        # Update hidden state\n",
    "        hidden_state = self.input_to_hidden(combined)\n",
    "        \n",
    "        # Compute output\n",
    "        output = self.input_to_output(combined)\n",
    "        output = self.softmax(output)\n",
    "        \n",
    "        return output, hidden_state\n",
    "\n",
    "    def initHidden(self):\n",
    "        return torch.zeros(1, self.hidden_size)"
   ]
  },
  {
   "cell_type": "code",
   "execution_count": 25,
   "id": "5e9c4398",
   "metadata": {},
   "outputs": [
    {
     "name": "stdout",
     "output_type": "stream",
     "text": [
      "RNNModel(\n",
      "  (input_to_hidden): Linear(in_features=186, out_features=128, bias=True)\n",
      "  (input_to_output): Linear(in_features=186, out_features=18, bias=True)\n",
      "  (softmax): LogSoftmax(dim=1)\n",
      ")\n"
     ]
    }
   ],
   "source": [
    "# Create model\n",
    "n_hidden = 128\n",
    "model = RNNModel(n_letters, n_hidden, len(alldata.labels_uniq)).to(device)\n",
    "print(model)"
   ]
  },
  {
   "cell_type": "markdown",
   "id": "25775389",
   "metadata": {},
   "source": [
    "## Step 5: Test the Model (Before Training)"
   ]
  },
  {
   "cell_type": "code",
   "execution_count": 26,
   "id": "7d23d376",
   "metadata": {},
   "outputs": [
    {
     "name": "stdout",
     "output_type": "stream",
     "text": [
      "Testing with name: 'Albert'\n",
      "Input shape: torch.Size([6, 1, 58])\n",
      "Predicted nationality: Korean\n",
      "(Before training - this is random!)\n"
     ]
    }
   ],
   "source": [
    "def label_from_output(output, output_labels):\n",
    "    \"\"\"Get the predicted label from model output\"\"\"\n",
    "    top_n, top_i = output.topk(1)\n",
    "    label_i = top_i[0].item()\n",
    "    return output_labels[label_i], label_i\n",
    "\n",
    "# Test with a name\n",
    "test_name = 'Albert'\n",
    "hidden_state = model.initHidden()\n",
    "input_tensor = lineToTensor(test_name)\n",
    "\n",
    "print(f\"Testing with name: '{test_name}'\")\n",
    "print(f\"Input shape: {input_tensor.shape}\")\n",
    "\n",
    "# Loop through each character (this is how Manual RNN works!)\n",
    "for i in range(input_tensor.size()[0]):\n",
    "    output, hidden_state = model(input_tensor[i], hidden_state)\n",
    "\n",
    "# Use final output for prediction\n",
    "predicted_label, predicted_idx = label_from_output(output, alldata.labels_uniq)\n",
    "print(f\"Predicted nationality: {predicted_label}\")\n",
    "print(f\"(Before training - this is random!)\")"
   ]
  },
  {
   "cell_type": "markdown",
   "id": "c4b3237b",
   "metadata": {},
   "source": [
    "## Step 6: Training Setup"
   ]
  },
  {
   "cell_type": "code",
   "execution_count": 27,
   "id": "09b6bba7",
   "metadata": {},
   "outputs": [
    {
     "name": "stdout",
     "output_type": "stream",
     "text": [
      "Training for 10 epochs\n",
      "Batch size: 64\n",
      "Learning rate: 0.2\n"
     ]
    }
   ],
   "source": [
    "# Hyperparameters\n",
    "n_epoch = 10\n",
    "n_batch_size = 64\n",
    "report_every = 5\n",
    "learning_rate = 0.2\n",
    "\n",
    "# Loss and optimizer\n",
    "criterion = nn.NLLLoss()\n",
    "optimizer = torch.optim.SGD(model.parameters(), lr=learning_rate)\n",
    "\n",
    "print(f\"Training for {n_epoch} epochs\")\n",
    "print(f\"Batch size: {n_batch_size}\")\n",
    "print(f\"Learning rate: {learning_rate}\")"
   ]
  },
  {
   "cell_type": "markdown",
   "id": "f3e5d20d",
   "metadata": {},
   "source": [
    "## Step 7: Training Function"
   ]
  },
  {
   "cell_type": "markdown",
   "id": "5f81b1b7",
   "metadata": {},
   "source": [
    "## Understanding Manual RNN Training Loop\n",
    "\n",
    "### Visual Flow: How Text is Processed\n",
    "\n",
    "Let's trace through processing the name **\"Albert\"** step by step:"
   ]
  },
  {
   "cell_type": "markdown",
   "id": "e665ea4b",
   "metadata": {},
   "source": [
    "#### Step 1: Initialize\n",
    "```\n",
    "Name: \"Albert\"  →  ['A', 'l', 'b', 'e', 'r', 't']\n",
    "Hidden State: [0, 0, 0, ..., 0]  (128 zeros)\n",
    "```\n",
    "\n",
    "#### Step 2: Process Character-by-Character\n",
    "\n",
    "```\n",
    "Time Step 1:  'A' + hidden[0,0,...] → RNN → output₁, hidden₁\n",
    "                ↓\n",
    "Time Step 2:  'l' + hidden₁        → RNN → output₂, hidden₂\n",
    "                ↓\n",
    "Time Step 3:  'b' + hidden₂        → RNN → output₃, hidden₃\n",
    "                ↓\n",
    "Time Step 4:  'e' + hidden₃        → RNN → output₄, hidden₄\n",
    "                ↓\n",
    "Time Step 5:  'r' + hidden₄        → RNN → output₅, hidden₅\n",
    "                ↓\n",
    "Time Step 6:  't' + hidden₅        → RNN → output₆, hidden₆\n",
    "                ↓\n",
    "Final Prediction: output₆ → \"French\" (or other nationality)\n",
    "```\n",
    "\n",
    "**Key Point**: Each character updates the hidden state, which carries information to the next character."
   ]
  },
  {
   "cell_type": "markdown",
   "id": "f6f96d1e",
   "metadata": {},
   "source": [
    "#### The 4 Nested Loops\n",
    "\n",
    "```python\n",
    "for epoch in range(10):                          # Loop 1: 10 epochs\n",
    "    ├─ for batch in batches:                     # Loop 2: ~200 batches\n",
    "        ├─ for name in batch:                    # Loop 3: 64 names per batch\n",
    "            │\n",
    "            │  hidden = [0, 0, ..., 0]           # Reset for each name\n",
    "            │\n",
    "            └─ for char in name:                 # Loop 4: 6 chars in \"Albert\"\n",
    "                  │\n",
    "                  ├─ output, hidden = RNN(char, hidden)\n",
    "                  └─ hidden is updated!\n",
    "            \n",
    "            loss = criterion(output, label)      # Loss from final output\n",
    "```\n",
    "\n",
    "**Visual Example**: Processing 1 batch with 2 names\n",
    "\n",
    "```\n",
    "Batch = [\"Albert\", \"Chen\"]\n",
    "\n",
    "┌─────────────────────────────────────────┐\n",
    "│ Name 1: \"Albert\"                        │\n",
    "├─────────────────────────────────────────┤\n",
    "│ hidden = [0,0,0,...]                    │\n",
    "│ ├─ 'A' → RNN → hidden₁                  │\n",
    "│ ├─ 'l' → RNN → hidden₂                  │\n",
    "│ ├─ 'b' → RNN → hidden₃                  │\n",
    "│ ├─ 'e' → RNN → hidden₄                  │\n",
    "│ ├─ 'r' → RNN → hidden₅                  │\n",
    "│ └─ 't' → RNN → hidden₆ → output → loss  │\n",
    "└─────────────────────────────────────────┘\n",
    "\n",
    "┌─────────────────────────────────────────┐\n",
    "│ Name 2: \"Chen\"                          │\n",
    "├─────────────────────────────────────────┤\n",
    "│ hidden = [0,0,0,...]   ← RESET!         │\n",
    "│ ├─ 'C' → RNN → hidden₁                  │\n",
    "│ ├─ 'h' → RNN → hidden₂                  │\n",
    "│ ├─ 'e' → RNN → hidden₃                  │\n",
    "│ └─ 'n' → RNN → hidden₄ → output → loss  │\n",
    "└─────────────────────────────────────────┘\n",
    "\n",
    "Then: batch_loss.backward() → optimizer.step()\n",
    "```"
   ]
  },
  {
   "cell_type": "markdown",
   "id": "b7ae3520",
   "metadata": {},
   "source": [
    "#### Code-to-Visual Mapping\n",
    "\n",
    "Looking at the actual code:\n",
    "\n",
    "```python\n",
    "for j in range(text_tensor.size()[0]):    # For each character in \"Albert\"\n",
    "    output, hidden = rnn(text_tensor[j], hidden)\n",
    "```\n",
    "\n",
    "**This translates to**:\n",
    "\n",
    "```\n",
    "j=0: text_tensor[0] = 'A' → RNN('A', hidden₀) → output, hidden₁\n",
    "j=1: text_tensor[1] = 'l' → RNN('l', hidden₁) → output, hidden₂\n",
    "j=2: text_tensor[2] = 'b' → RNN('b', hidden₂) → output, hidden₃\n",
    "j=3: text_tensor[3] = 'e' → RNN('e', hidden₃) → output, hidden₄\n",
    "j=4: text_tensor[4] = 'r' → RNN('r', hidden₄) → output, hidden₅\n",
    "j=5: text_tensor[5] = 't' → RNN('t', hidden₅) → output, hidden₆  ← Use this for prediction!\n",
    "```\n",
    "\n",
    "**Memory Flow**:\n",
    "```\n",
    "'A' ──┐\n",
    "      ├─→ hidden₁ ──┐\n",
    "'l' ──┘             ├─→ hidden₂ ──┐\n",
    "                'b' ─┘             ├─→ hidden₃ ──┐\n",
    "                                'e' ─┘             ├─→ ... → hidden₆ → Prediction\n",
    "                                                'r' ─┘\n",
    "```\n",
    "\n",
    "The hidden state \"remembers\" all previous characters!"
   ]
  },
  {
   "cell_type": "markdown",
   "id": "e7433c62",
   "metadata": {},
   "source": [
    "#### Why is Manual RNN Slower?\n",
    "\n",
    "**Manual RNN (This code)**:\n",
    "```python\n",
    "for char in \"Albert\":              # Python loop - 6 iterations\n",
    "    output, hidden = RNN(char, hidden)\n",
    "```\n",
    "→ 6 separate Python function calls (SLOW)\n",
    "\n",
    "**Built-in RNN (Problem 2)**:\n",
    "```python\n",
    "output = RNN(\"Albert\")             # Single call - processes all at once\n",
    "```\n",
    "→ 1 optimized C++/CUDA operation (FAST - 10-50x faster!)\n",
    "\n",
    "---\n",
    "\n",
    "Now let's look at the actual training function:"
   ]
  },
  {
   "cell_type": "markdown",
   "id": "2f0cddd2",
   "metadata": {},
   "source": [
    "<figure>\n",
    "  <img src=\"asset/rnn_loss_calculate.png\" alt=\"Grouped conv\" width=\"520\">\n",
    "  <figcaption>RNN's Workflow over different timestamp</figcaption>\n",
    "</figure>"
   ]
  },
  {
   "cell_type": "code",
   "execution_count": null,
   "id": "d84a3201",
   "metadata": {},
   "outputs": [],
   "source": [
    "def train(rnn, training_data):\n",
    "    \"\"\"\n",
    "    Train the manual RNN model\n",
    "    \"\"\"\n",
    "    current_loss = 0\n",
    "    all_losses = []\n",
    "    model.train()\n",
    "    print(f\"Training on dataset with n = {len(training_data)}\")\n",
    "\n",
    "    for iter in range(1, n_epoch + 1):\n",
    "        model.zero_grad()\n",
    "\n",
    "        # Create minibatches\n",
    "        batches = list(range(len(training_data)))\n",
    "        random.shuffle(batches)\n",
    "        batches = np.array_split(batches, len(batches) // n_batch_size)\n",
    "\n",
    "        for idx, batch in enumerate(batches):\n",
    "            batch_loss = 0\n",
    "            \n",
    "            for i in batch:\n",
    "                (label_tensor, text_tensor, label, text) = training_data[i]\n",
    "                \n",
    "                # Initialize hidden state for this example\n",
    "                hidden = rnn.initHidden()\n",
    "                \n",
    "                # MANUAL LOOP: Process each character one at a time\n",
    "                for j in range(text_tensor.size()[0]):\n",
    "                    output, hidden = rnn(text_tensor[j], hidden)\n",
    "                \n",
    "                # Use final output for loss\n",
    "                loss = criterion(output, label_tensor)\n",
    "                batch_loss += loss\n",
    "\n",
    "            # Optimize\n",
    "            batch_loss.backward()\n",
    "            nn.utils.clip_grad_norm_(rnn.parameters(), 3)\n",
    "            optimizer.step()\n",
    "            optimizer.zero_grad()\n",
    "\n",
    "            current_loss += batch_loss.item() / len(batch)\n",
    "\n",
    "        all_losses.append(current_loss / len(batches))\n",
    "        if iter % report_every == 0:\n",
    "            print(f\"Epoch {iter}/{n_epoch} ({iter / n_epoch:.0%}): average batch loss = {all_losses[-1]:.4f}\")\n",
    "        current_loss = 0\n",
    "\n",
    "    return all_losses"
   ]
  },
  {
   "cell_type": "markdown",
   "id": "aa255973",
   "metadata": {},
   "source": [
    "## Step 8: Train the Model"
   ]
  },
  {
   "cell_type": "code",
   "execution_count": null,
   "id": "a8a90485",
   "metadata": {},
   "outputs": [],
   "source": [
    "# Train!\n",
    "start = time.time()\n",
    "all_losses = train(model, train_set)\n",
    "end = time.time()\n",
    "print(f\"\\nTraining completed in {end-start:.2f} seconds\")"
   ]
  },
  {
   "cell_type": "markdown",
   "id": "49383505",
   "metadata": {},
   "source": [
    "## Step 9: Visualize Training Progress"
   ]
  },
  {
   "cell_type": "code",
   "execution_count": null,
   "id": "038e99a2",
   "metadata": {},
   "outputs": [],
   "source": [
    "plt.figure(figsize=(10, 5))\n",
    "plt.plot(all_losses)\n",
    "plt.xlabel('Epoch')\n",
    "plt.ylabel('Loss')\n",
    "plt.title('Training Loss - Problem 1: Name Classification')\n",
    "plt.grid(True)\n",
    "plt.show()"
   ]
  },
  {
   "cell_type": "markdown",
   "id": "1c334f44",
   "metadata": {},
   "source": [
    "## Step 10: Test the Trained Model"
   ]
  },
  {
   "cell_type": "code",
   "execution_count": null,
   "id": "6c94ab0e",
   "metadata": {},
   "outputs": [],
   "source": [
    "# Test with some names\n",
    "test_names = ['Albert', 'Chen', 'Dimitri', 'O\\'Brien', 'Garcia', 'Yamamoto']\n",
    "\n",
    "model.eval()\n",
    "print(\"Testing trained model:\")\n",
    "print(\"-\" * 50)\n",
    "\n",
    "for test_name in test_names:\n",
    "    hidden_state = model.initHidden()\n",
    "    input_tensor = lineToTensor(test_name)\n",
    "    \n",
    "    with torch.no_grad():\n",
    "        for i in range(input_tensor.size()[0]):\n",
    "            output, hidden_state = model(input_tensor[i], hidden_state)\n",
    "    \n",
    "    predicted_label, predicted_idx = label_from_output(output, alldata.labels_uniq)\n",
    "    print(f\"{test_name:15} → {predicted_label}\")"
   ]
  },
  {
   "cell_type": "markdown",
   "id": "16345374",
   "metadata": {},
   "source": [
    "---\n",
    "\n",
    "<a id='problem2'></a>\n",
    "# Part 3: Problem 2 - Image Classification (CIFAR-10) (Not Recommend Just Tutorial)\n",
    "\n",
    "## Using Method 2: PyTorch Built-in RNN\n",
    "\n",
    "**Goal**: Classify images from CIFAR-10 dataset using RNN\n",
    "\n",
    "**Dataset**: CIFAR-10 (10 classes: airplane, automobile, bird, cat, deer, dog, frog, horse, ship, truck)\n",
    "\n",
    "**Approach**: Treat images as sequences by processing row-by-row"
   ]
  },
  {
   "cell_type": "markdown",
   "id": "1a474c06",
   "metadata": {},
   "source": [
    "## Step 1: Load CIFAR-10 Dataset"
   ]
  },
  {
   "cell_type": "code",
   "execution_count": 11,
   "id": "39e64059",
   "metadata": {},
   "outputs": [
    {
     "name": "stdout",
     "output_type": "stream",
     "text": [
      "Downloading CIFAR-10 dataset...\n",
      "Training images: 50000\n",
      "Test images: 10000\n",
      "Image shape: torch.Size([3, 32, 32])\n",
      "Training images: 50000\n",
      "Test images: 10000\n",
      "Image shape: torch.Size([3, 32, 32])\n"
     ]
    }
   ],
   "source": [
    "# Transform: Convert image to tensor and normalize\n",
    "transform = transforms.Compose([\n",
    "    transforms.ToTensor(),\n",
    "    transforms.Normalize((0.5,), (0.5,))\n",
    "])\n",
    "\n",
    "# Download and load datasets\n",
    "print(\"Downloading CIFAR-10 dataset...\")\n",
    "train_dataset = datasets.CIFAR10(\n",
    "    root='./data', train=True, transform=transform, download=True\n",
    ")\n",
    "test_dataset = datasets.CIFAR10(\n",
    "    root='./data', train=False, transform=transform, download=True\n",
    ")\n",
    "\n",
    "# Create DataLoaders\n",
    "train_loader = DataLoader(train_dataset, batch_size=64, shuffle=True)\n",
    "test_loader = DataLoader(test_dataset, batch_size=64, shuffle=False)\n",
    "\n",
    "print(f\"Training images: {len(train_dataset)}\")\n",
    "print(f\"Test images: {len(test_dataset)}\")\n",
    "print(f\"Image shape: {train_dataset[0][0].shape}\")  # (3, 32, 32)"
   ]
  },
  {
   "cell_type": "markdown",
   "id": "6381f61b",
   "metadata": {},
   "source": [
    "## Step 2: Understanding Image as Sequence\n",
    "\n",
    "CIFAR-10 images are 3×32×32. We treat each **row as a time step**:\n",
    "- **Original**: `(3, 32, 32)` → (channels, height, width)\n",
    "- **Transform**: Permute then reshape → `(32, 96)` \n",
    "- **Result**: 32 time steps, 96 features per step (32 pixels × 3 colors)"
   ]
  },
  {
   "cell_type": "markdown",
   "id": "f018249f",
   "metadata": {},
   "source": [
    "📚 **For detailed explanations**:\n",
    "- Data preprocessing tutorial: See `RNN_Data_Processing_Tutorial.ipynb`\n",
    "- RNN methods comparison: See `RNN_Methods_Comparison.ipynb`"
   ]
  },
  {
   "cell_type": "markdown",
   "id": "8979414f",
   "metadata": {},
   "source": [
    "## Visual Representation: From Image to Sequence\n",
    "\n",
    "Now let's **see** the actual transformation with matplotlib visualizations!"
   ]
  },
  {
   "cell_type": "code",
   "execution_count": 34,
   "id": "2e906401",
   "metadata": {},
   "outputs": [
    {
     "data": {
      "image/png": "[encoded data removed]",
      "text/plain": [
       "<Figure size 1600x400 with 4 Axes>"
      ]
     },
     "metadata": {},
     "output_type": "display_data"
    },
    {
     "name": "stdout",
     "output_type": "stream",
     "text": [
      "\n",
      "💡 Explanation:\n",
      "   - Left: The complete color image as we see it\n",
      "   - Right 3 panels: The separate Red, Green, and Blue channels\n",
      "   - In PyTorch, these 3 channels are SEPARATE matrices (3, 32, 32)\n",
      "   - Each channel is a 32×32 grid of intensity values\n"
     ]
    }
   ],
   "source": [
    "# Visualize the RGB channels separately\n",
    "fig, axes = plt.subplots(1, 4, figsize=(16, 4))\n",
    "\n",
    "# Get one image\n",
    "img, label = train_dataset[100]\n",
    "\n",
    "# Original image (denormalize for display)\n",
    "img_display = img * 0.5 + 0.5  # Undo normalization\n",
    "img_display = img_display.permute(1, 2, 0).numpy()  # Convert to (H, W, C)\n",
    "img_display = np.clip(img_display, 0, 1)\n",
    "\n",
    "# Show original image\n",
    "axes[0].imshow(img_display)\n",
    "axes[0].set_title(f'Original CIFAR-10 Image\\nShape: {img.shape}\\n(C, H, W) = (3, 32, 32)', fontsize=10, fontweight='bold')\n",
    "axes[0].axis('off')\n",
    "\n",
    "# Show each color channel separately\n",
    "for i, (channel_name, color) in enumerate([('Red', 'Reds'), ('Green', 'Greens'), ('Blue', 'Blues')]):\n",
    "    axes[i+1].imshow(img[i].numpy(), cmap=color)\n",
    "    axes[i+1].set_title(f'{channel_name} Channel\\nShape: {img[i].shape}\\n(H, W) = (32, 32)', fontsize=10)\n",
    "    axes[i+1].axis('off')\n",
    "\n",
    "plt.suptitle('Step 1: Understanding the Original Image Structure', fontsize=14, fontweight='bold', y=1.02)\n",
    "plt.tight_layout()\n",
    "plt.show()\n",
    "\n",
    "print(\"\\n💡 Explanation:\")\n",
    "print(\"   - Left: The complete color image as we see it\")\n",
    "print(\"   - Right 3 panels: The separate Red, Green, and Blue channels\")\n",
    "print(\"   - In PyTorch, these 3 channels are SEPARATE matrices (3, 32, 32)\")\n",
    "print(\"   - Each channel is a 32×32 grid of intensity values\")"
   ]
  },
  {
   "cell_type": "code",
   "execution_count": 35,
   "id": "7f0031d5",
   "metadata": {},
   "outputs": [
    {
     "data": {
      "image/png": "[encoded data removed]",
      "text/plain": [
       "<Figure size 1400x500 with 2 Axes>"
      ]
     },
     "metadata": {},
     "output_type": "display_data"
    },
    {
     "name": "stdout",
     "output_type": "stream",
     "text": [
      "\n",
      "💡 Why do we permute?\n",
      "   BEFORE: img[channel, row, col] - to get RGB of pixel(0,0) we need img[0,0,0], img[1,0,0], img[2,0,0]\n",
      "   AFTER:  img[row, col, channel] - to get RGB of pixel(0,0) we just need img[0,0,:] = [R,G,B]\n",
      "   This groups RGB values together for easier row-wise processing!\n"
     ]
    }
   ],
   "source": [
    "# Visualize the permute transformation\n",
    "fig, axes = plt.subplots(1, 2, figsize=(14, 5))\n",
    "\n",
    "# After permute: now RGB values are grouped per pixel\n",
    "img_permuted = img.permute(1, 2, 0)\n",
    "\n",
    "axes[0].imshow(img_display)\n",
    "axes[0].set_title('BEFORE Permute\\n(C, H, W) = (3, 32, 32)\\nChannels are SEPARATED', fontsize=11, fontweight='bold')\n",
    "axes[0].axis('off')\n",
    "\n",
    "axes[1].imshow(img_permuted.numpy() * 0.5 + 0.5)\n",
    "axes[1].set_title('AFTER Permute\\n(H, W, C) = (32, 32, 3)\\nRGB values GROUPED per pixel', fontsize=11, fontweight='bold')\n",
    "axes[1].axis('off')\n",
    "\n",
    "# Add annotations\n",
    "axes[0].text(0.5, -0.1, 'Each channel stored separately:\\nRed[32×32], Green[32×32], Blue[32×32]', \n",
    "             ha='center', transform=axes[0].transAxes, fontsize=9, style='italic',\n",
    "             bbox=dict(boxstyle='round', facecolor='wheat', alpha=0.5))\n",
    "\n",
    "axes[1].text(0.5, -0.1, 'Each pixel has all 3 colors together:\\nPixel[0,0]=[R,G,B], Pixel[0,1]=[R,G,B], ...', \n",
    "             ha='center', transform=axes[1].transAxes, fontsize=9, style='italic',\n",
    "             bbox=dict(boxstyle='round', facecolor='lightgreen', alpha=0.5))\n",
    "\n",
    "plt.suptitle('Step 2: Permute - Rearranging Dimensions', fontsize=14, fontweight='bold', y=1.02)\n",
    "plt.tight_layout()\n",
    "plt.show()\n",
    "\n",
    "print(\"\\n💡 Why do we permute?\")\n",
    "print(\"   BEFORE: img[channel, row, col] - to get RGB of pixel(0,0) we need img[0,0,0], img[1,0,0], img[2,0,0]\")\n",
    "print(\"   AFTER:  img[row, col, channel] - to get RGB of pixel(0,0) we just need img[0,0,:] = [R,G,B]\")\n",
    "print(\"   This groups RGB values together for easier row-wise processing!\")"
   ]
  },
  {
   "cell_type": "code",
   "execution_count": 36,
   "id": "9edd4ca7",
   "metadata": {},
   "outputs": [
    {
     "data": {
      "image/png": "[encoded data removed]",
      "text/plain": [
       "<Figure size 1400x800 with 7 Axes>"
      ]
     },
     "metadata": {},
     "output_type": "display_data"
    },
    {
     "name": "stdout",
     "output_type": "stream",
     "text": [
      "\n",
      "💡 Understanding the Sequence:\n",
      "   - Each row of the image becomes ONE time step\n",
      "   - The RNN will process 32 time steps (rows 0 through 31)\n",
      "   - Each time step has 96 features: 32 pixels × 3 RGB values\n",
      "   - Feature pattern: [R₀,G₀,B₀, R₁,G₁,B₁, R₂,G₂,B₂, ..., R₃₁,G₃₁,B₃₁]\n",
      "   - The RNN 'reads' the image from top to bottom, row by row!\n"
     ]
    }
   ],
   "source": [
    "# Visualize rows as sequences\n",
    "fig, axes = plt.subplots(2, 2, figsize=(14, 8))\n",
    "\n",
    "# Show the image with row highlights\n",
    "axes[0, 0].imshow(img_display)\n",
    "axes[0, 0].set_title('Image with Rows Highlighted', fontsize=11, fontweight='bold')\n",
    "axes[0, 0].axhline(y=0.5, color='red', linewidth=2, label='Row 0')\n",
    "axes[0, 0].axhline(y=5.5, color='orange', linewidth=2, label='Row 5')\n",
    "axes[0, 0].axhline(y=10.5, color='yellow', linewidth=2, label='Row 10')\n",
    "axes[0, 0].legend(loc='upper right', fontsize=8)\n",
    "axes[0, 0].axis('off')\n",
    "\n",
    "# Reshape to sequence format\n",
    "img_seq = img_permuted.reshape(32, 96)\n",
    "\n",
    "# Show first 3 rows as feature vectors\n",
    "for i, (row_num, color) in enumerate([(0, 'Reds'), (5, 'Oranges'), (10, 'YlOrBr')]):\n",
    "    row_idx = i // 2\n",
    "    col_idx = i % 2\n",
    "    \n",
    "    if i == 0:\n",
    "        ax = axes[0, 1]\n",
    "    else:\n",
    "        ax = axes[1, i-1]\n",
    "    \n",
    "    row_data = img_seq[row_num].numpy().reshape(1, -1)\n",
    "    im = ax.imshow(row_data, cmap=color, aspect='auto')\n",
    "    ax.set_title(f'Row {row_num} as Sequence\\nShape: {img_seq[row_num].shape} = 96 features', fontsize=10)\n",
    "    ax.set_xlabel('Feature Index: 0-95 represents [R₀,G₀,B₀, R₁,G₁,B₁, ..., R₃₁,G₃₁,B₃₁]', fontsize=8)\n",
    "    ax.set_ylabel('Time Step', fontsize=8)\n",
    "    ax.set_yticks([0])\n",
    "    ax.set_yticklabels([f'Step {row_num}'])\n",
    "    \n",
    "    # Add colorbar\n",
    "    plt.colorbar(im, ax=ax, fraction=0.046, pad=0.04)\n",
    "\n",
    "plt.suptitle('Step 3: Reshape - Converting Rows to Time Steps', fontsize=14, fontweight='bold')\n",
    "plt.tight_layout()\n",
    "plt.show()\n",
    "\n",
    "print(\"\\n💡 Understanding the Sequence:\")\n",
    "print(\"   - Each row of the image becomes ONE time step\")\n",
    "print(\"   - The RNN will process 32 time steps (rows 0 through 31)\")\n",
    "print(\"   - Each time step has 96 features: 32 pixels × 3 RGB values\")\n",
    "print(\"   - Feature pattern: [R₀,G₀,B₀, R₁,G₁,B₁, R₂,G₂,B₂, ..., R₃₁,G₃₁,B₃₁]\")\n",
    "print(\"   - The RNN 'reads' the image from top to bottom, row by row!\")"
   ]
  },
  {
   "cell_type": "markdown",
   "id": "2ec0ae22",
   "metadata": {},
   "source": [
    "## Step 3: Define Built-in RNN Model\n",
    "\n",
    "### Architecture Explanation\n",
    "\n",
    "This RNN uses PyTorch's optimized `nn.RNN` that processes **entire sequences at once**:\n",
    "\n",
    "#### Components:\n",
    "1. **`self.rnn`**: PyTorch's RNN layer\n",
    "   - Handles all the sequential processing internally\n",
    "   - `batch_first=True`: Input shape is `(batch, sequence, features)`\n",
    "   \n",
    "2. **`self.fc`**: Fully connected layer for classification\n",
    "   - Takes the last time step's output\n",
    "   - Produces final class predictions\n",
    "\n",
    "#### Key Difference from Method 1:\n",
    "- ✅ No manual looping required!\n",
    "- ✅ Much faster (optimized CUDA kernels)\n",
    "- ✅ Process entire batch of sequences at once"
   ]
  },
  {
   "cell_type": "code",
   "execution_count": 12,
   "id": "cf8e3c8e",
   "metadata": {},
   "outputs": [],
   "source": [
    "class RNN(nn.Module):\n",
    "    def __init__(self, input_size, hidden_size, num_rnn_layers, output_size):\n",
    "        super(RNN, self).__init__()\n",
    "        self.hidden_size = hidden_size\n",
    "        self.num_layers = num_rnn_layers\n",
    "        self.rnn = nn.RNN(input_size, hidden_size, num_rnn_layers, batch_first=True)\n",
    "        self.fc = nn.Linear(hidden_size, output_size)\n",
    "    \n",
    "    def forward(self, x):\n",
    "        # x shape: (batch_size, sequence_length, input_size)\n",
    "        h0 = torch.zeros(self.num_layers, x.size(0), self.hidden_size).to(x.device) # Initial hidden state\n",
    "        out, _ = self.rnn(x, h0)  \n",
    "        # out shape: (batch_size, sequence_length, hidden_size)\n",
    "        # We only need the output from the last time step\n",
    "        out = out[:, -1, :]  # Take the last time step: (batch_size, hidden_size)\n",
    "        out = self.fc(out)  # (batch_size, output_size)\n",
    "        return out"
   ]
  },
  {
   "cell_type": "code",
   "execution_count": 13,
   "id": "bb7fb1c4",
   "metadata": {},
   "outputs": [
    {
     "name": "stdout",
     "output_type": "stream",
     "text": [
      "RNN(\n",
      "  (rnn): RNN(96, 256, num_layers=2, batch_first=True)\n",
      "  (fc): Linear(in_features=256, out_features=10, bias=True)\n",
      ")\n",
      "\n",
      "Total parameters: 224778\n"
     ]
    }
   ],
   "source": [
    "# Create model for CIFAR-10\n",
    "# Images: 3×32×32 → treat as sequence: 32 rows × (32 pixels × 3 colors)\n",
    "input_size = 32 * 3      # 96 features per time step\n",
    "sequence_length = 32     # 32 rows (time steps)\n",
    "num_rnn_layers = 2       # Stack 2 RNN layers\n",
    "hidden_size = 256        # Hidden state size\n",
    "num_classes = 10         # CIFAR-10 has 10 classes\n",
    "\n",
    "rnn = RNN(input_size, hidden_size, num_rnn_layers, num_classes).to(device)\n",
    "print(rnn)\n",
    "print(f\"\\nTotal parameters: {sum(p.numel() for p in rnn.parameters())}\")"
   ]
  },
  {
   "cell_type": "markdown",
   "id": "e0a9f7e8",
   "metadata": {},
   "source": [
    "## Step 4: Training Setup"
   ]
  },
  {
   "cell_type": "code",
   "execution_count": 14,
   "id": "1448e9e7",
   "metadata": {},
   "outputs": [
    {
     "name": "stdout",
     "output_type": "stream",
     "text": [
      "Training for 5 epochs\n",
      "Learning rate: 0.001\n",
      "Optimizer: Adam\n"
     ]
    }
   ],
   "source": [
    "# Hyperparameters\n",
    "learning_rate = 0.001\n",
    "n_epochs = 5\n",
    "\n",
    "# Loss and optimizer\n",
    "criterion = nn.CrossEntropyLoss()\n",
    "optimizer = Adam(rnn.parameters(), lr=learning_rate)\n",
    "\n",
    "print(f\"Training for {n_epochs} epochs\")\n",
    "print(f\"Learning rate: {learning_rate}\")\n",
    "print(f\"Optimizer: Adam\")"
   ]
  },
  {
   "cell_type": "markdown",
   "id": "f81ee181",
   "metadata": {},
   "source": [
    "## Step 5: Train the Model\n",
    "\n",
    "**Notice**: We pass the entire sequence at once - no manual looping!"
   ]
  },
  {
   "cell_type": "code",
   "execution_count": 15,
   "id": "4844cd5f",
   "metadata": {},
   "outputs": [
    {
     "name": "stdout",
     "output_type": "stream",
     "text": [
      "Starting training...\n",
      "Epoch [1/5], Step [0/782], Loss: 2.2781\n",
      "Epoch [1/5], Step [100/782], Loss: 2.0654\n",
      "Epoch [1/5], Step [100/782], Loss: 2.0654\n",
      "Epoch [1/5], Step [200/782], Loss: 2.1134\n",
      "Epoch [1/5], Step [200/782], Loss: 2.1134\n",
      "Epoch [1/5], Step [300/782], Loss: 1.8742\n",
      "Epoch [1/5], Step [300/782], Loss: 1.8742\n",
      "Epoch [1/5], Step [400/782], Loss: 2.0087\n",
      "Epoch [1/5], Step [400/782], Loss: 2.0087\n",
      "Epoch [1/5], Step [500/782], Loss: 1.8196\n",
      "Epoch [1/5], Step [500/782], Loss: 1.8196\n",
      "Epoch [1/5], Step [600/782], Loss: 2.1800\n",
      "Epoch [1/5], Step [600/782], Loss: 2.1800\n",
      "Epoch [1/5], Step [700/782], Loss: 2.0346\n",
      "Epoch [1/5], Step [700/782], Loss: 2.0346\n",
      "\n",
      "Epoch [1/5] completed, Average Loss: 2.0515\n",
      "\n",
      "Epoch [2/5], Step [0/782], Loss: 1.9458\n",
      "\n",
      "Epoch [1/5] completed, Average Loss: 2.0515\n",
      "\n",
      "Epoch [2/5], Step [0/782], Loss: 1.9458\n",
      "Epoch [2/5], Step [100/782], Loss: 2.1777\n",
      "Epoch [2/5], Step [100/782], Loss: 2.1777\n",
      "Epoch [2/5], Step [200/782], Loss: 2.2342\n",
      "Epoch [2/5], Step [200/782], Loss: 2.2342\n",
      "Epoch [2/5], Step [300/782], Loss: 2.2405\n",
      "Epoch [2/5], Step [300/782], Loss: 2.2405\n",
      "Epoch [2/5], Step [400/782], Loss: 2.1072\n",
      "Epoch [2/5], Step [400/782], Loss: 2.1072\n",
      "Epoch [2/5], Step [500/782], Loss: 2.0297\n",
      "Epoch [2/5], Step [500/782], Loss: 2.0297\n",
      "Epoch [2/5], Step [600/782], Loss: 2.0440\n",
      "Epoch [2/5], Step [600/782], Loss: 2.0440\n",
      "Epoch [2/5], Step [700/782], Loss: 2.0500\n",
      "Epoch [2/5], Step [700/782], Loss: 2.0500\n",
      "\n",
      "Epoch [2/5] completed, Average Loss: 2.1285\n",
      "\n",
      "Epoch [3/5], Step [0/782], Loss: 2.0657\n",
      "\n",
      "Epoch [2/5] completed, Average Loss: 2.1285\n",
      "\n",
      "Epoch [3/5], Step [0/782], Loss: 2.0657\n",
      "Epoch [3/5], Step [100/782], Loss: 2.2433\n",
      "Epoch [3/5], Step [100/782], Loss: 2.2433\n",
      "Epoch [3/5], Step [200/782], Loss: 2.1320\n",
      "Epoch [3/5], Step [200/782], Loss: 2.1320\n",
      "Epoch [3/5], Step [300/782], Loss: 2.1071\n",
      "Epoch [3/5], Step [300/782], Loss: 2.1071\n",
      "Epoch [3/5], Step [400/782], Loss: 2.0916\n",
      "Epoch [3/5], Step [400/782], Loss: 2.0916\n",
      "Epoch [3/5], Step [500/782], Loss: 2.1276\n",
      "Epoch [3/5], Step [500/782], Loss: 2.1276\n",
      "Epoch [3/5], Step [600/782], Loss: 2.1855\n",
      "Epoch [3/5], Step [600/782], Loss: 2.1855\n",
      "Epoch [3/5], Step [700/782], Loss: 2.2035\n",
      "Epoch [3/5], Step [700/782], Loss: 2.2035\n",
      "\n",
      "Epoch [3/5] completed, Average Loss: 2.1494\n",
      "\n",
      "Epoch [4/5], Step [0/782], Loss: 1.9732\n",
      "\n",
      "Epoch [3/5] completed, Average Loss: 2.1494\n",
      "\n",
      "Epoch [4/5], Step [0/782], Loss: 1.9732\n",
      "Epoch [4/5], Step [100/782], Loss: 1.9318\n",
      "Epoch [4/5], Step [100/782], Loss: 1.9318\n",
      "Epoch [4/5], Step [200/782], Loss: 2.1499\n",
      "Epoch [4/5], Step [200/782], Loss: 2.1499\n",
      "Epoch [4/5], Step [300/782], Loss: 2.1849\n",
      "Epoch [4/5], Step [300/782], Loss: 2.1849\n",
      "Epoch [4/5], Step [400/782], Loss: 2.0541\n",
      "Epoch [4/5], Step [400/782], Loss: 2.0541\n",
      "Epoch [4/5], Step [500/782], Loss: 1.9605\n",
      "Epoch [4/5], Step [500/782], Loss: 1.9605\n",
      "Epoch [4/5], Step [600/782], Loss: 2.0569\n",
      "Epoch [4/5], Step [600/782], Loss: 2.0569\n",
      "Epoch [4/5], Step [700/782], Loss: 1.9267\n",
      "Epoch [4/5], Step [700/782], Loss: 1.9267\n",
      "\n",
      "Epoch [4/5] completed, Average Loss: 2.0035\n",
      "\n",
      "Epoch [5/5], Step [0/782], Loss: 1.8665\n",
      "\n",
      "Epoch [4/5] completed, Average Loss: 2.0035\n",
      "\n",
      "Epoch [5/5], Step [0/782], Loss: 1.8665\n",
      "Epoch [5/5], Step [100/782], Loss: 1.9372\n",
      "Epoch [5/5], Step [100/782], Loss: 1.9372\n",
      "Epoch [5/5], Step [200/782], Loss: 1.7501\n",
      "Epoch [5/5], Step [200/782], Loss: 1.7501\n",
      "Epoch [5/5], Step [300/782], Loss: 1.9082\n",
      "Epoch [5/5], Step [300/782], Loss: 1.9082\n",
      "Epoch [5/5], Step [400/782], Loss: 2.3260\n",
      "Epoch [5/5], Step [400/782], Loss: 2.3260\n",
      "Epoch [5/5], Step [500/782], Loss: 2.1789\n",
      "Epoch [5/5], Step [500/782], Loss: 2.1789\n",
      "Epoch [5/5], Step [600/782], Loss: 2.1041\n",
      "Epoch [5/5], Step [600/782], Loss: 2.1041\n",
      "Epoch [5/5], Step [700/782], Loss: 2.1446\n",
      "Epoch [5/5], Step [700/782], Loss: 2.1446\n",
      "\n",
      "Epoch [5/5] completed, Average Loss: 2.0007\n",
      "\n",
      "Finished Training!\n",
      "\n",
      "Epoch [5/5] completed, Average Loss: 2.0007\n",
      "\n",
      "Finished Training!\n"
     ]
    }
   ],
   "source": [
    "print(\"Starting training...\")\n",
    "rnn.train()\n",
    "\n",
    "for epoch in range(n_epochs):\n",
    "    epoch_loss = 0\n",
    "    \n",
    "    for i, (inputs, labels) in enumerate(train_loader):\n",
    "        # Reshape images to sequences\n",
    "        # (batch, 3, 32, 32) → (batch, 32, 96)\n",
    "        inputs = inputs.permute(0, 2, 3, 1)  # (batch, 32, 32, 3)\n",
    "        inputs = inputs.reshape(-1, sequence_length, input_size)  # (batch, 32, 96)\n",
    "        \n",
    "        # Zero gradients\n",
    "        optimizer.zero_grad()\n",
    "        \n",
    "        # Forward pass (no manual loop needed!)\n",
    "        outputs = rnn(inputs)\n",
    "        loss = criterion(outputs, labels)\n",
    "        \n",
    "        # Backward pass\n",
    "        loss.backward()\n",
    "        optimizer.step()\n",
    "        \n",
    "        epoch_loss += loss.item()\n",
    "        \n",
    "        # Progress report\n",
    "        if i % 100 == 0:\n",
    "            print(f'Epoch [{epoch + 1}/{n_epochs}], Step [{i}/{len(train_loader)}], Loss: {loss.item():.4f}')\n",
    "    \n",
    "    avg_loss = epoch_loss / len(train_loader)\n",
    "    print(f'\\nEpoch [{epoch + 1}/{n_epochs}] completed, Average Loss: {avg_loss:.4f}\\n')\n",
    "\n",
    "print('Finished Training!')"
   ]
  },
  {
   "cell_type": "markdown",
   "id": "1ba637a1",
   "metadata": {},
   "source": [
    "## Step 6: Evaluate on Test Set"
   ]
  },
  {
   "cell_type": "code",
   "execution_count": 16,
   "id": "c6ef456f",
   "metadata": {},
   "outputs": [
    {
     "name": "stdout",
     "output_type": "stream",
     "text": [
      "Evaluating on test set...\n",
      "\n",
      "Test Accuracy: 30.69%\n",
      "Correct predictions: 3069/10000\n",
      "\n",
      "Test Accuracy: 30.69%\n",
      "Correct predictions: 3069/10000\n"
     ]
    }
   ],
   "source": [
    "# Evaluate\n",
    "rnn.eval()\n",
    "correct = 0\n",
    "total = 0\n",
    "\n",
    "print(\"Evaluating on test set...\")\n",
    "\n",
    "with torch.no_grad():\n",
    "    for X_batch, y_batch in test_loader:\n",
    "        # Reshape the same way as in training\n",
    "        X_batch = X_batch.permute(0, 2, 3, 1)  # (batch, 32, 32, 3)\n",
    "        X_batch = X_batch.reshape(-1, sequence_length, input_size)  # (batch, 32, 96)\n",
    "        \n",
    "        outputs = rnn(X_batch)\n",
    "        _, predicted = torch.max(outputs, 1)\n",
    "        total += y_batch.size(0)\n",
    "        correct += (predicted == y_batch).sum().item()\n",
    "\n",
    "accuracy = 100 * correct / total\n",
    "print(f\"\\nTest Accuracy: {accuracy:.2f}%\")\n",
    "print(f\"Correct predictions: {correct}/{total}\")"
   ]
  },
  {
   "cell_type": "markdown",
   "id": "fb9a8011",
   "metadata": {},
   "source": [
    "---\n",
    "\n",
    "# Part 4: Advanced RNN Concepts & Data Processing\n",
    "\n",
    "## Understanding Different RNN Architectures\n",
    "\n",
    "Before we conclude, let's explore the different types of RNN architectures and how to process data for each!"
   ]
  },
  {
   "cell_type": "markdown",
   "id": "d49504c0",
   "metadata": {},
   "source": [
    "## RNN Architecture Types\n",
    "\n",
    "RNNs can have different input-output relationships:\n",
    "\n",
    "| Type | Input | Output | Example Use Case |\n",
    "|------|-------|--------|------------------|\n",
    "| **One-to-One** | Single input | Single output | Traditional neural network (not really RNN) |\n",
    "| **One-to-Many** | Single input | Sequence output | Image captioning, music generation |\n",
    "| **Many-to-One** | Sequence input | Single output | Sentiment analysis, **our name classification!** |\n",
    "| **Many-to-Many (Same Length)** | Sequence input | Sequence output (same length) | Video frame labeling, POS tagging |\n",
    "| **Many-to-Many (Different Length)** | Sequence input | Sequence output (different length) | Machine translation, text summarization |\n",
    "\n",
    "### Visual Representation\n",
    "\n",
    "```\n",
    "ONE-TO-MANY:                    MANY-TO-ONE:\n",
    "   Input                           Input Sequence\n",
    "     ↓                             ↓  ↓  ↓  ↓\n",
    "   [RNN] → [RNN] → [RNN]          [RNN][RNN][RNN][RNN]\n",
    "     ↓       ↓       ↓                          ↓\n",
    "   Out1   Out2    Out3                        Output\n",
    "\n",
    "MANY-TO-MANY (Same):            MANY-TO-MANY (Different):\n",
    "   In1    In2    In3              In1  In2  In3\n",
    "    ↓      ↓      ↓                ↓    ↓    ↓\n",
    "  [RNN]→[RNN]→[RNN]              [RNN][RNN][RNN] → [RNN]→[RNN]\n",
    "    ↓      ↓      ↓                                  ↓     ↓\n",
    "   Out1   Out2   Out3                              Out1  Out2\n",
    "```\n",
    "\n",
    "**What we've built so far:**\n",
    "- Problem 1 (Names): **Many-to-One** (sequence → single class)\n",
    "- Problem 2 (CIFAR): **Many-to-One** (image rows → single class)\n",
    "\n",
    "Now let's implement the other types!"
   ]
  },
  {
   "cell_type": "markdown",
   "id": "f7f74ad8",
   "metadata": {},
   "source": [
    "<figure>\n",
    "  <img src=\"asset/rnn_types.png\" alt=\"Grouped conv\" width=\"600\">\n",
    "  <figcaption>RNN's Workflow over different timestamp</figcaption>\n",
    "</figure>"
   ]
  },
  {
   "cell_type": "markdown",
   "id": "4fb73b4e",
   "metadata": {},
   "source": [
    "## Example 1: One-to-Many RNN\n",
    "### Use Case: Image Captioning / Sequence Generation\n",
    "\n",
    "**Scenario**: Generate a sequence from a single input (like describing an image with text)\n",
    "\n",
    "For this example, we'll create a simple number-to-sequence generator"
   ]
  },
  {
   "cell_type": "code",
   "execution_count": 48,
   "id": "bae394c7",
   "metadata": {},
   "outputs": [
    {
     "name": "stdout",
     "output_type": "stream",
     "text": [
      "================================================================================\n",
      "ONE-TO-MANY RNN DEMO\n",
      "================================================================================\n",
      "\n",
      "Input shape: torch.Size([3, 10]) (batch=3, features=10)\n",
      "Output shape: torch.Size([3, 7, 5])\n",
      "Interpretation: (batch=3, seq_len=7, output_dim=5)\n",
      "\n",
      "💡 From ONE input, we generated a SEQUENCE of 7 outputs!\n",
      "   Real-world: Input=image features, Output=word sequence (caption)\n",
      "================================================================================\n"
     ]
    }
   ],
   "source": [
    "# One-to-Many RNN: Generate a sequence from a single input\n",
    "class OneToManyRNN(nn.Module):\n",
    "    def __init__(self, input_size, hidden_size, output_size, sequence_length):\n",
    "        super(OneToManyRNN, self).__init__()\n",
    "        self.hidden_size = hidden_size\n",
    "        self.sequence_length = sequence_length\n",
    "        \n",
    "        # Encode the input\n",
    "        self.encoder = nn.Linear(input_size, hidden_size)\n",
    "        \n",
    "        # RNN cell for generating sequence\n",
    "        self.rnn = nn.RNNCell(output_size, hidden_size)\n",
    "        \n",
    "        # Output layer\n",
    "        self.fc = nn.Linear(hidden_size, output_size)\n",
    "    \n",
    "    def forward(self, x):\n",
    "        # x shape: (batch_size, input_size)\n",
    "        batch_size = x.size(0)\n",
    "        \n",
    "        # Encode input to initial hidden state\n",
    "        hidden = torch.relu(self.encoder(x))  # (batch, hidden_size)\n",
    "        \n",
    "        outputs = []\n",
    "        # Start with zeros as first input to RNN\n",
    "        rnn_input = torch.zeros(batch_size, self.fc.out_features).to(x.device)\n",
    "        \n",
    "        # Generate sequence\n",
    "        for t in range(self.sequence_length):\n",
    "            hidden = self.rnn(rnn_input, hidden)\n",
    "            output = self.fc(hidden)\n",
    "            outputs.append(output)\n",
    "            rnn_input = output  # Use output as next input\n",
    "        \n",
    "        # Stack outputs: (batch, sequence_length, output_size)\n",
    "        outputs = torch.stack(outputs, dim=1)\n",
    "        return outputs\n",
    "\n",
    "# Demo: Generate sequences\n",
    "print(\"=\"*80)\n",
    "print(\"ONE-TO-MANY RNN DEMO\")\n",
    "print(\"=\"*80)\n",
    "\n",
    "# Create a simple model\n",
    "one_to_many_model = OneToManyRNN(input_size=10, hidden_size=20, output_size=5, sequence_length=7)\n",
    "\n",
    "# Single input (e.g., an image feature vector)\n",
    "single_input = torch.randn(3, 10)  # 3 samples, 10 features each\n",
    "print(f\"\\nInput shape: {single_input.shape} (batch=3, features=10)\")\n",
    "\n",
    "# Generate sequences\n",
    "output_sequences = one_to_many_model(single_input)\n",
    "print(f\"Output shape: {output_sequences.shape}\")\n",
    "print(f\"Interpretation: (batch=3, seq_len=7, output_dim=5)\")\n",
    "print(f\"\\n💡 From ONE input, we generated a SEQUENCE of 7 outputs!\")\n",
    "print(f\"   Real-world: Input=image features, Output=word sequence (caption)\")\n",
    "print(\"=\"*80)"
   ]
  },
  {
   "cell_type": "markdown",
   "id": "ebee87c2",
   "metadata": {},
   "source": [
    "## Example 2: Many-to-Many RNN (Same Length)\n",
    "### Use Case: Part-of-Speech Tagging, Video Frame Labeling\n",
    "\n",
    "**Scenario**: Each input in the sequence gets a corresponding output\n",
    "\n",
    "We'll use a simple sequence tagging task with synthetic data"
   ]
  },
  {
   "cell_type": "code",
   "execution_count": 49,
   "id": "e87fff15",
   "metadata": {},
   "outputs": [
    {
     "name": "stdout",
     "output_type": "stream",
     "text": [
      "================================================================================\n",
      "MANY-TO-MANY (SAME LENGTH) RNN DEMO\n",
      "================================================================================\n",
      "\n",
      "Input shape: torch.Size([3, 8, 10])\n",
      "Interpretation: (batch=3, seq_len=8, features=10)\n",
      "\n",
      "Output shape: torch.Size([3, 8, 5])\n",
      "Interpretation: (batch=3, seq_len=8, classes=5)\n",
      "\n",
      "💡 For EACH input time step, we get ONE output!\n",
      "   Real-world: Tag each word in a sentence with its part-of-speech\n",
      "   Input:  ['The', 'cat', 'sits', 'on', 'mat']\n",
      "   Output: ['DET', 'NOUN', 'VERB', 'PREP', 'NOUN']\n",
      "================================================================================\n"
     ]
    }
   ],
   "source": [
    "# Many-to-Many RNN (Same Length): Output at each time step\n",
    "class ManyToManySameLengthRNN(nn.Module):\n",
    "    def __init__(self, input_size, hidden_size, output_size):\n",
    "        super(ManyToManySameLengthRNN, self).__init__()\n",
    "        self.hidden_size = hidden_size\n",
    "        \n",
    "        self.rnn = nn.RNN(input_size, hidden_size, batch_first=True)\n",
    "        self.fc = nn.Linear(hidden_size, output_size)\n",
    "    \n",
    "    def forward(self, x):\n",
    "        # x shape: (batch, sequence_length, input_size)\n",
    "        \n",
    "        # Get outputs for ALL time steps\n",
    "        rnn_out, _ = self.rnn(x)  # (batch, seq_len, hidden)\n",
    "        \n",
    "        # Apply linear layer to each time step\n",
    "        # Reshape to (batch * seq_len, hidden)\n",
    "        batch_size, seq_len, hidden = rnn_out.shape\n",
    "        rnn_out_flat = rnn_out.reshape(-1, hidden)\n",
    "        \n",
    "        # Get predictions for all time steps\n",
    "        output_flat = self.fc(rnn_out_flat)  # (batch * seq_len, output_size)\n",
    "        \n",
    "        # Reshape back to (batch, seq_len, output_size)\n",
    "        output = output_flat.reshape(batch_size, seq_len, -1)\n",
    "        \n",
    "        return output\n",
    "\n",
    "# Demo\n",
    "print(\"=\"*80)\n",
    "print(\"MANY-TO-MANY (SAME LENGTH) RNN DEMO\")\n",
    "print(\"=\"*80)\n",
    "\n",
    "# Create model\n",
    "many_to_many_same_model = ManyToManySameLengthRNN(input_size=10, hidden_size=20, output_size=5)\n",
    "\n",
    "# Sequence input (e.g., word embeddings for a sentence)\n",
    "sequence_input = torch.randn(3, 8, 10)  # 3 sentences, 8 words each, 10-dim embedding\n",
    "print(f\"\\nInput shape: {sequence_input.shape}\")\n",
    "print(f\"Interpretation: (batch=3, seq_len=8, features=10)\")\n",
    "\n",
    "# Get output for each time step\n",
    "output_sequence = many_to_many_same_model(sequence_input)\n",
    "print(f\"\\nOutput shape: {output_sequence.shape}\")\n",
    "print(f\"Interpretation: (batch=3, seq_len=8, classes=5)\")\n",
    "print(f\"\\n💡 For EACH input time step, we get ONE output!\")\n",
    "print(f\"   Real-world: Tag each word in a sentence with its part-of-speech\")\n",
    "print(f\"   Input:  ['The', 'cat', 'sits', 'on', 'mat']\")\n",
    "print(f\"   Output: ['DET', 'NOUN', 'VERB', 'PREP', 'NOUN']\")\n",
    "print(\"=\"*80)"
   ]
  },
  {
   "cell_type": "markdown",
   "id": "c208a99a",
   "metadata": {},
   "source": [
    "## Example 3: Many-to-Many RNN (Different Length) - Seq2Seq\n",
    "### Use Case: Machine Translation, Text Summarization\n",
    "\n",
    "**Scenario**: Input and output sequences have different lengths\n",
    "\n",
    "This requires an **Encoder-Decoder** architecture:\n",
    "- **Encoder**: Processes input sequence → produces context vector\n",
    "- **Decoder**: Takes context vector → generates output sequence\n",
    "\n",
    "Real-world example: Translate \"Hello\" (5 chars) → \"Bonjour\" (7 chars)"
   ]
  },
  {
   "cell_type": "code",
   "execution_count": 29,
   "id": "80098bb6",
   "metadata": {},
   "outputs": [
    {
     "name": "stdout",
     "output_type": "stream",
     "text": [
      "================================================================================\n",
      "MANY-TO-MANY (DIFFERENT LENGTH) - SEQ2SEQ RNN DEMO\n",
      "================================================================================\n",
      "\n",
      "Input shape: torch.Size([3, 6, 10])\n",
      "Interpretation: (batch=3, input_seq_len=6, features=10)\n",
      "\n",
      "Output shape: torch.Size([3, 8, 5])\n",
      "Interpretation: (batch=3, output_seq_len=8, classes=5)\n",
      "\n",
      "💡 Input and output have DIFFERENT lengths!\n",
      "   Input length: 6\n",
      "   Output length: 8\n",
      "\n",
      "   Real-world examples:\n",
      "   • Translation: 'Hello' (5 chars) → 'Bonjour' (7 chars)\n",
      "   • Summarization: Long article (1000 words) → Summary (100 words)\n",
      "   • Text generation: Prompt (10 words) → Story (500 words)\n",
      "================================================================================\n"
     ]
    }
   ],
   "source": [
    "# Many-to-Many RNN (Different Length): Encoder-Decoder Architecture\n",
    "class Encoder(nn.Module):\n",
    "    def __init__(self, input_size, hidden_size):\n",
    "        super(Encoder, self).__init__()\n",
    "        self.hidden_size = hidden_size\n",
    "        self.rnn = nn.RNN(input_size, hidden_size, batch_first=True)\n",
    "    \n",
    "    def forward(self, x):\n",
    "        # x shape: (batch, seq_len, input_size)\n",
    "        # Process entire input sequence\n",
    "        outputs, hidden = self.rnn(x)\n",
    "        # Return final hidden state as context vector\n",
    "        return hidden\n",
    "\n",
    "class Decoder(nn.Module):\n",
    "    def __init__(self, hidden_size, output_size):\n",
    "        super(Decoder, self).__init__()\n",
    "        self.hidden_size = hidden_size\n",
    "        self.rnn = nn.RNNCell(output_size, hidden_size)\n",
    "        self.fc = nn.Linear(hidden_size, output_size)\n",
    "    \n",
    "    def forward(self, context, target_length):\n",
    "        # context shape: (num_layers, batch, hidden_size)\n",
    "        # Use context as initial hidden state\n",
    "        batch_size = context.size(1)\n",
    "        hidden = context[-1]  # Take last layer's hidden state\n",
    "        \n",
    "        outputs = []\n",
    "        # Start with zeros as first input\n",
    "        rnn_input = torch.zeros(batch_size, self.fc.out_features).to(context.device)\n",
    "        \n",
    "        # Generate output sequence\n",
    "        for t in range(target_length):\n",
    "            hidden = self.rnn(rnn_input, hidden)\n",
    "            output = self.fc(hidden)\n",
    "            outputs.append(output)\n",
    "            rnn_input = output  # Teacher forcing: use output as next input\n",
    "        \n",
    "        outputs = torch.stack(outputs, dim=1)\n",
    "        return outputs\n",
    "\n",
    "class Seq2SeqRNN(nn.Module):\n",
    "    def __init__(self, input_size, hidden_size, output_size):\n",
    "        super(Seq2SeqRNN, self).__init__()\n",
    "        self.encoder = Encoder(input_size, hidden_size)\n",
    "        self.decoder = Decoder(hidden_size, output_size)\n",
    "    \n",
    "    def forward(self, x, target_length):\n",
    "        # Encode input sequence\n",
    "        context = self.encoder(x)\n",
    "        # Decode to output sequence\n",
    "        outputs = self.decoder(context, target_length)\n",
    "        return outputs\n",
    "\n",
    "# Demo\n",
    "print(\"=\"*80)\n",
    "print(\"MANY-TO-MANY (DIFFERENT LENGTH) - SEQ2SEQ RNN DEMO\")\n",
    "print(\"=\"*80)\n",
    "\n",
    "# Create model\n",
    "seq2seq_model = Seq2SeqRNN(input_size=10, hidden_size=20, output_size=5)\n",
    "\n",
    "# Input sequence (e.g., source sentence)\n",
    "input_seq = torch.randn(3, 6, 10)  # 3 samples, length 6, 10 features\n",
    "target_length = 8  # Want output of length 8\n",
    "\n",
    "print(f\"\\nInput shape: {input_seq.shape}\")\n",
    "print(f\"Interpretation: (batch=3, input_seq_len=6, features=10)\")\n",
    "\n",
    "# Generate output sequence\n",
    "output_seq = seq2seq_model(input_seq, target_length)\n",
    "\n",
    "print(f\"\\nOutput shape: {output_seq.shape}\")\n",
    "print(f\"Interpretation: (batch=3, output_seq_len={target_length}, classes=5)\")\n",
    "print(f\"\\n💡 Input and output have DIFFERENT lengths!\")\n",
    "print(f\"   Input length: 6\")\n",
    "print(f\"   Output length: {target_length}\")\n",
    "print(f\"\\n   Real-world examples:\")\n",
    "print(f\"   • Translation: 'Hello' (5 chars) → 'Bonjour' (7 chars)\")\n",
    "print(f\"   • Summarization: Long article (1000 words) → Summary (100 words)\")\n",
    "print(f\"   • Text generation: Prompt (10 words) → Story (500 words)\")\n",
    "print(\"=\"*80)"
   ]
  },
  {
   "cell_type": "markdown",
   "id": "2d5a44b3",
   "metadata": {},
   "source": [
    "## 📊 Complete Comparison: All RNN Architectures Covered\n",
    "\n",
    "Let's visualize all 4 architectures we've learned!"
   ]
  },
  {
   "cell_type": "markdown",
   "id": "22429453",
   "metadata": {},
   "source": [
    "### All RNN Architectures Summary\n",
    "\n",
    "| Architecture | Input → Output | Example | Covered |\n",
    "|--------------|----------------|---------|---------|\n",
    "| **One-to-Many** | Single → Sequence | Image → Caption | ✓ Example 1 |\n",
    "| **Many-to-One** | Sequence → Single | Name → Nationality | ✓✓ Problems 1 & 2 |\n",
    "| **Many-to-Many (Same)** | Sequence → Sequence (equal) | Words → POS tags | ✓ Example 2 |\n",
    "| **Many-to-Many (Diff)** | Sequence → Sequence (different) | English → French | ✓ Example 3 |"
   ]
  },
  {
   "cell_type": "markdown",
   "id": "86459d4e",
   "metadata": {},
   "source": [
    "## 🎯 Practical Considerations & Best Practices\n",
    "\n",
    "When working with RNNs in real projects, consider these important factors:"
   ]
  },
  {
   "cell_type": "markdown",
   "id": "fa212e16",
   "metadata": {},
   "source": [
    "### Practical Considerations\n",
    "\n",
    "#### 1. Choosing Manual vs Built-in RNN\n",
    "\n",
    "**Use Manual RNN when:**\n",
    "- Learning RNN internals\n",
    "- Need custom behavior per time step  \n",
    "- Implementing novel architectures\n",
    "\n",
    "**Use Built-in RNN when:**\n",
    "- Production systems (speed matters)\n",
    "- Standard architectures\n",
    "- Large-scale training\n",
    "\n",
    "#### 2. Common RNN Problems & Solutions\n",
    "\n",
    "| Problem | Solution | Code |\n",
    "|---------|----------|------|\n",
    "| **Vanishing Gradients** | Use LSTM or GRU | `nn.LSTM(input_size, hidden_size)` |\n",
    "| **Exploding Gradients** | Use gradient clipping | `nn.utils.clip_grad_norm_(model.parameters(), max_norm)` |\n",
    "| **Slow Training** | Use built-in RNN + GPU | `model.to(\"cuda\")` |\n",
    "| **Variable Length** | Padding + packing | `nn.utils.rnn.pack_padded_sequence(...)` |\n",
    "\n",
    "#### 3. RNN Variants\n",
    "\n",
    "| Variant | When to Use | Trade-off |\n",
    "|---------|-------------|-----------|\n",
    "| **Vanilla RNN** | Short sequences (<10 steps) | Simple but limited memory |\n",
    "| **LSTM** | Long sequences (10-100+ steps) | Best performance, more parameters |\n",
    "| **GRU** | Balance speed and performance | Faster than LSTM, good results |\n",
    "| **Bidirectional** | Complete sequence available | 2x slower, better accuracy |\n",
    "\n",
    "#### 4. Debugging Checklist\n",
    "\n",
    "✓ Check input shapes: `(batch, seq_len, features)` for built-in RNN  \n",
    "✓ Initialize hidden state with correct shape  \n",
    "✓ Move both model and data to same device  \n",
    "✓ Use gradient clipping to prevent exploding gradients  \n",
    "✓ Monitor both train and validation loss"
   ]
  },
  {
   "cell_type": "markdown",
   "id": "a9eb901b",
   "metadata": {},
   "source": [
    "---\n",
    "\n",
    "## 🎓 Final Summary: Your Complete RNN Journey\n",
    "\n",
    "Congratulations! You've completed a comprehensive RNN tutorial covering:\n",
    "\n",
    "### 📖 What You Learned\n",
    "\n",
    "#### 1. **Two Implementation Methods**\n",
    "- **Method 1 (Manual)**: Built RNN from scratch, processed one character at a time\n",
    "  - ✓ Full control over every step\n",
    "  - ✓ Deep understanding of RNN internals\n",
    "  - ✓ Detailed walkthrough with printed examples showing hidden state evolution\n",
    "  \n",
    "- **Method 2 (Built-in)**: Used PyTorch's optimized modules\n",
    "  - ✓ 10-50x faster training\n",
    "  - ✓ Production-ready\n",
    "  - ✓ No manual looping required\n",
    "\n",
    "#### 2. **All Four RNN Architectures**\n",
    "- ✅ **One-to-Many**: Single input → Sequence output (image captioning)\n",
    "- ✅ **Many-to-One**: Sequence input → Single output (classification)\n",
    "- ✅ **Many-to-Many (Same)**: Equal length input/output (POS tagging)\n",
    "- ✅ **Many-to-Many (Diff)**: Different length input/output (translation)\n",
    "\n",
    "#### 3. **Two Complete Projects**\n",
    "- 🏆 **Project 1**: Name Classification (18 nationalities, manual RNN)\n",
    "- 🏆 **Project 2**: CIFAR-10 Image Classification (built-in RNN)\n",
    "\n",
    "#### 4. **Practical Knowledge**\n",
    "- 🔧 Debugging techniques\n",
    "- ⚙️ Hyperparameter tuning\n",
    "- 🚀 Performance optimization\n",
    "- 🎯 When to use which variant\n",
    "\n",
    "### 🎯 Next Steps\n",
    "\n",
    "1. **Experiment**: Try LSTM/GRU instead of vanilla RNN\n",
    "   ```python\n",
    "   nn.LSTM(input_size, hidden_size, num_layers)\n",
    "   nn.GRU(input_size, hidden_size, num_layers)\n",
    "   ```\n",
    "\n",
    "2. **Advanced Topics**:\n",
    "   - Bidirectional RNNs\n",
    "   - Attention mechanisms\n",
    "   - Transformers (the successor to RNNs)\n",
    "\n",
    "3. **Apply to Your Data**:\n",
    "   - Text classification\n",
    "   - Time series prediction\n",
    "   - Sequence generation\n",
    "\n",
    "### 📚 Resources\n",
    "- PyTorch RNN Tutorial: https://pytorch.org/tutorials/intermediate/char_rnn_classification_tutorial.html\n",
    "- Understanding LSTM: https://colah.github.io/posts/2015-08-Understanding-LSTMs/\n",
    "\n",
    "---\n",
    "\n",
    "**Remember**: For production, use **LSTM/GRU with built-in PyTorch modules**. They're faster, more stable, and handle long-term dependencies better! 🚀"
   ]
  }
 ],
 "metadata": {
  "kernelspec": {
   "display_name": "Python 3",
   "language": "python",
   "name": "python3"
  },
  "language_info": {
   "codemirror_mode": {
    "name": "ipython",
    "version": 3
   },
   "file_extension": ".py",
   "mimetype": "text/x-python",
   "name": "python",
   "nbconvert_exporter": "python",
   "pygments_lexer": "ipython3",
   "version": "3.12.3"
  }
 },
 "nbformat": 4,
 "nbformat_minor": 5
}
