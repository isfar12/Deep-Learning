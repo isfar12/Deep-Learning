{
 "cells": [
  {
   "cell_type": "code",
   "execution_count": 472,
   "id": "77f9f2a4",
   "metadata": {},
   "outputs": [],
   "source": [
    "import torch\n",
    "import numpy"
   ]
  },
  {
   "cell_type": "code",
   "execution_count": 473,
   "id": "f34dd02a",
   "metadata": {},
   "outputs": [],
   "source": [
    "from sklearn.datasets import load_iris\n",
    "iris = load_iris()\n",
    "X = iris.data\n",
    "y = iris.target"
   ]
  },
  {
   "cell_type": "code",
   "execution_count": 474,
   "id": "c1688625",
   "metadata": {},
   "outputs": [],
   "source": [
    "X = X[y != 2] # Filter out class 2 (Iris-virginica) for binary classification\n",
    "\n",
    "y = y[y != 2]"
   ]
  },
  {
   "cell_type": "code",
   "execution_count": 475,
   "id": "2332c436",
   "metadata": {},
   "outputs": [
    {
     "data": {
      "text/plain": [
       "array([[5.1, 3.5, 1.4, 0.2],\n",
       "       [4.9, 3. , 1.4, 0.2],\n",
       "       [4.7, 3.2, 1.3, 0.2],\n",
       "       [4.6, 3.1, 1.5, 0.2],\n",
       "       [5. , 3.6, 1.4, 0.2],\n",
       "       [5.4, 3.9, 1.7, 0.4],\n",
       "       [4.6, 3.4, 1.4, 0.3],\n",
       "       [5. , 3.4, 1.5, 0.2],\n",
       "       [4.4, 2.9, 1.4, 0.2],\n",
       "       [4.9, 3.1, 1.5, 0.1]])"
      ]
     },
     "execution_count": 475,
     "metadata": {},
     "output_type": "execute_result"
    }
   ],
   "source": [
    "X[:10]"
   ]
  },
  {
   "cell_type": "code",
   "execution_count": 476,
   "id": "79d18223",
   "metadata": {},
   "outputs": [],
   "source": [
    "from sklearn.preprocessing import StandardScaler\n",
    "from sklearn.model_selection import train_test_split\n",
    "scaler=StandardScaler()\n",
    "X=scaler.fit_transform(X)"
   ]
  },
  {
   "cell_type": "code",
   "execution_count": 477,
   "id": "8194996e",
   "metadata": {},
   "outputs": [
    {
     "data": {
      "text/plain": [
       "array([[-0.5810659 ,  0.84183714, -1.01297765, -1.04211089],\n",
       "       [-0.89430898, -0.2078351 , -1.01297765, -1.04211089],\n",
       "       [-1.20755205,  0.21203379, -1.08231219, -1.04211089],\n",
       "       [-1.36417359,  0.00209934, -0.94364311, -1.04211089],\n",
       "       [-0.73768744,  1.05177159, -1.01297765, -1.04211089],\n",
       "       [-0.11120129,  1.68157493, -0.80497402, -0.68644165],\n",
       "       [-1.36417359,  0.63190269, -1.01297765, -0.86427627],\n",
       "       [-0.73768744,  0.63190269, -0.94364311, -1.04211089],\n",
       "       [-1.67741667, -0.41776955, -1.01297765, -1.04211089],\n",
       "       [-0.89430898,  0.00209934, -0.94364311, -1.21994552]])"
      ]
     },
     "execution_count": 477,
     "metadata": {},
     "output_type": "execute_result"
    }
   ],
   "source": [
    "X[:10]"
   ]
  },
  {
   "cell_type": "code",
   "execution_count": 478,
   "id": "493c650c",
   "metadata": {},
   "outputs": [],
   "source": [
    "X=torch.from_numpy(X)\n",
    "y=torch.from_numpy(y)\n",
    "\n",
    "X_train, X_test, y_train, y_test = train_test_split(X, y, test_size=0.3, random_state=42)"
   ]
  },
  {
   "cell_type": "code",
   "execution_count": 479,
   "id": "b57971ff",
   "metadata": {},
   "outputs": [
    {
     "data": {
      "text/plain": [
       "torch.float64"
      ]
     },
     "execution_count": 479,
     "metadata": {},
     "output_type": "execute_result"
    }
   ],
   "source": [
    "X.dtype"
   ]
  },
  {
   "cell_type": "code",
   "execution_count": 480,
   "id": "4bb00168",
   "metadata": {},
   "outputs": [
    {
     "data": {
      "text/plain": [
       "torch.Size([70, 4])"
      ]
     },
     "execution_count": 480,
     "metadata": {},
     "output_type": "execute_result"
    }
   ],
   "source": [
    "X_train.shape"
   ]
  },
  {
   "cell_type": "code",
   "execution_count": 481,
   "id": "efbad69e",
   "metadata": {},
   "outputs": [],
   "source": [
    "class My_SimpleNN():\n",
    "    def __init__(self,X):\n",
    "        self.weights=torch.rand(X.shape[1],1,dtype=torch.float64,requires_grad=True) #  1 neuron\n",
    "        self.bias=torch.ones(1,dtype=torch.float64,requires_grad=True)\n",
    "\n",
    "    def forward(self,X):\n",
    "        z=torch.matmul(X,self.weights)+self.bias #calculate bias\n",
    "        y_pred=torch.sigmoid(z) #predicting\n",
    "        return y_pred\n",
    "    \n",
    "    def loss_function(self, y_pred, y):\n",
    "        # Clamp predictions to avoid log(0)\n",
    "        epsilon = 1e-7\n",
    "        y_pred = torch.clamp(y_pred, epsilon, 1 - epsilon)\n",
    "\n",
    "        # Calculate loss\n",
    "        loss = -(y * torch.log(y_pred) + (1 - y) * torch.log(1 - y_pred)).mean()\n",
    "        return loss\n"
   ]
  },
  {
   "cell_type": "code",
   "execution_count": 482,
   "id": "d3c9d3e3",
   "metadata": {},
   "outputs": [
    {
     "data": {
      "text/plain": [
       "tensor([[0.6336],\n",
       "        [0.5423],\n",
       "        [0.6679],\n",
       "        [0.7797]], dtype=torch.float64, grad_fn=<SliceBackward0>)"
      ]
     },
     "execution_count": 482,
     "metadata": {},
     "output_type": "execute_result"
    }
   ],
   "source": [
    "model=My_SimpleNN(X_train)\n",
    "model.weights[:5]"
   ]
  },
  {
   "cell_type": "code",
   "execution_count": 483,
   "id": "32d857ff",
   "metadata": {},
   "outputs": [
    {
     "name": "stdout",
     "output_type": "stream",
     "text": [
      "Epoch: 1 Loss: 1.0727771474598757\n",
      "Epoch: 2 Loss: 1.0704679762726639\n",
      "Epoch: 3 Loss: 1.0681716376766435\n",
      "Epoch: 4 Loss: 1.0658880840334002\n",
      "Epoch: 5 Loss: 1.063617267617007\n",
      "Epoch: 6 Loss: 1.061359140618401\n",
      "Epoch: 7 Loss: 1.059113655149694\n",
      "Epoch: 8 Loss: 1.056880763248408\n",
      "Epoch: 9 Loss: 1.0546604168816502\n",
      "Epoch: 10 Loss: 1.0524525679502172\n",
      "Epoch: 11 Loss: 1.0502571682926307\n",
      "Epoch: 12 Loss: 1.0480741696891103\n",
      "Epoch: 13 Loss: 1.0459035238654764\n",
      "Epoch: 14 Loss: 1.0437451824969886\n",
      "Epoch: 15 Loss: 1.041599097212122\n",
      "Epoch: 16 Loss: 1.039465219596274\n",
      "Epoch: 17 Loss: 1.0373435011954097\n",
      "Epoch: 18 Loss: 1.0352338935196437\n",
      "Epoch: 19 Loss: 1.0331363480467592\n",
      "Epoch: 20 Loss: 1.031050816225663\n",
      "Epoch: 21 Loss: 1.028977249479782\n",
      "Epoch: 22 Loss: 1.0269155992103947\n",
      "Epoch: 23 Loss: 1.0248658167999045\n",
      "Epoch: 24 Loss: 1.0228278536150561\n",
      "Epoch: 25 Loss: 1.0208016610100852\n",
      "Epoch: 26 Loss: 1.0187871903298167\n",
      "Epoch: 27 Loss: 1.0167843929127034\n",
      "Epoch: 28 Loss: 1.0147932200938052\n",
      "Epoch: 29 Loss: 1.0128136232077152\n",
      "Epoch: 30 Loss: 1.010845553591428\n"
     ]
    }
   ],
   "source": [
    "epochs=30\n",
    "lr=.01 \n",
    "for epoch in range(epochs):\n",
    "    y_pred=model.forward(X_train)\n",
    "\n",
    "    loss=model.loss_function(y_pred,y_train)\n",
    "    print(f\"Epoch: {epoch+1} Loss: {loss.item()}\")\n",
    "    loss.backward()\n",
    "\n",
    "    with torch.no_grad():\n",
    "        model.weights-=lr*model.weights.grad\n",
    "        model.bias-=lr*model.bias.grad\n",
    "    \n",
    "    model.weights.grad.zero_()\n",
    "    model.bias.grad.zero_()\n"
   ]
  },
  {
   "cell_type": "code",
   "execution_count": 484,
   "id": "93435498",
   "metadata": {},
   "outputs": [
    {
     "name": "stdout",
     "output_type": "stream",
     "text": [
      "Accuracy: 0.48222222924232483\n"
     ]
    }
   ],
   "source": [
    "with torch.no_grad():\n",
    "    y_pred=model.forward(X_test)\n",
    "    y_pred=(y_pred>.5).float()\n",
    "    accuracy=(y_pred==y_test).float().mean()\n",
    "    print(f\"Accuracy: {accuracy}\")"
   ]
  },
  {
   "cell_type": "code",
   "execution_count": 485,
   "id": "a46ef7c8",
   "metadata": {},
   "outputs": [
    {
     "name": "stdout",
     "output_type": "stream",
     "text": [
      "Epoch: 1 Loss: 0.2509191930294037\n",
      "Epoch: 2 Loss: 0.2498241364955902\n",
      "Epoch: 3 Loss: 0.24873700737953186\n",
      "Epoch: 4 Loss: 0.24765761196613312\n",
      "Epoch: 5 Loss: 0.2465859204530716\n",
      "Epoch: 6 Loss: 0.2455219328403473\n",
      "Epoch: 7 Loss: 0.24446547031402588\n",
      "Epoch: 8 Loss: 0.24341654777526855\n",
      "Epoch: 9 Loss: 0.24237507581710815\n",
      "Epoch: 10 Loss: 0.24134096503257751\n",
      "Epoch: 11 Loss: 0.24031418561935425\n",
      "Epoch: 12 Loss: 0.2392946481704712\n",
      "Epoch: 13 Loss: 0.23828233778476715\n",
      "Epoch: 14 Loss: 0.23727713525295258\n",
      "Epoch: 15 Loss: 0.23627899587154388\n",
      "Epoch: 16 Loss: 0.2352878600358963\n",
      "Epoch: 17 Loss: 0.23430369794368744\n",
      "Epoch: 18 Loss: 0.23332639038562775\n",
      "Epoch: 19 Loss: 0.23235584795475006\n",
      "Epoch: 20 Loss: 0.23139217495918274\n",
      "Epoch: 21 Loss: 0.23043517768383026\n",
      "Epoch: 22 Loss: 0.22948478162288666\n",
      "Epoch: 23 Loss: 0.22854101657867432\n",
      "Epoch: 24 Loss: 0.22760380804538727\n",
      "Epoch: 25 Loss: 0.22667300701141357\n",
      "Epoch: 26 Loss: 0.2257487028837204\n",
      "Epoch: 27 Loss: 0.22483070194721222\n",
      "Epoch: 28 Loss: 0.223919078707695\n",
      "Epoch: 29 Loss: 0.22301365435123444\n",
      "Epoch: 30 Loss: 0.2221144437789917\n"
     ]
    },
    {
     "data": {
      "text/plain": [
       "89.99999761581421"
      ]
     },
     "execution_count": 485,
     "metadata": {},
     "output_type": "execute_result"
    }
   ],
   "source": [
    "import torch\n",
    "import numpy as np\n",
    "from sklearn.datasets import load_iris\n",
    "from sklearn.model_selection import train_test_split\n",
    "from sklearn.preprocessing import StandardScaler\n",
    "\n",
    "# Load Iris dataset\n",
    "iris = load_iris()\n",
    "X = iris.data\n",
    "y = iris.target\n",
    "\n",
    "# Filter out class 2 (Iris-virginica) for binary classification\n",
    "X = X[y != 2]\n",
    "y = y[y != 2]\n",
    "\n",
    "# Standardize the data\n",
    "scaler = StandardScaler()\n",
    "X = scaler.fit_transform(X)\n",
    "\n",
    "# Split into 70% training and 30% test sets\n",
    "X_train, X_test, y_train, y_test = train_test_split(X, y, test_size=0.3, random_state=42)\n",
    "\n",
    "# Convert to PyTorch tensors with float32 type for memory efficiency\n",
    "X_train = torch.tensor(X_train, dtype=torch.float32)\n",
    "y_train = torch.tensor(y_train, dtype=torch.float32).view(-1, 1)  # Reshape to column vector\n",
    "X_test = torch.tensor(X_test, dtype=torch.float32)\n",
    "y_test = torch.tensor(y_test, dtype=torch.float32).view(-1, 1)  # Reshape to column vector\n",
    "\n",
    "# Define the manual simple neural network as per the user's code\n",
    "class My_SimpleNN:\n",
    "    def __init__(self):\n",
    "        self.weights = torch.rand(X_train.shape[1], 1, dtype=torch.float32, requires_grad=True)\n",
    "        self.bias = torch.ones(1, dtype=torch.float32, requires_grad=True)\n",
    "\n",
    "    def forward(self, X):\n",
    "        z = torch.matmul(X, self.weights) + self.bias  # Linear combination\n",
    "        y_pred = torch.sigmoid(z)  # Sigmoid activation\n",
    "        return y_pred\n",
    "    \n",
    "    def loss_function(self, y_pred, y):\n",
    "        # Clamp predictions to avoid log(0)\n",
    "        epsilon = 1e-7\n",
    "        y_pred = torch.clamp(y_pred, epsilon, 1 - epsilon)\n",
    "        # Binary cross-entropy loss\n",
    "        loss = -(y * torch.log(y_pred) + (1 - y) * torch.log(1 - y_pred)).mean()\n",
    "        return loss\n",
    "\n",
    "# Initialize the model\n",
    "model = My_SimpleNN()\n",
    "\n",
    "# Training settings\n",
    "epochs = 30\n",
    "lr = 0.01\n",
    "\n",
    "# Training loop\n",
    "for epoch in range(epochs):\n",
    "    y_pred = model.forward(X_train)\n",
    "    loss = model.loss_function(y_pred, y_train)\n",
    "    print(f\"Epoch: {epoch+1} Loss: {loss.item()}\")\n",
    "    \n",
    "    loss.backward()  # Backpropagation\n",
    "    \n",
    "    # Gradient update\n",
    "    with torch.no_grad():\n",
    "        model.weights -= lr * model.weights.grad\n",
    "        model.bias -= lr * model.bias.grad\n",
    "    \n",
    "    model.weights.grad.zero_()  # Zero gradients\n",
    "    model.bias.grad.zero_()  # Zero gradients\n",
    "\n",
    "# Testing the model\n",
    "with torch.no_grad():\n",
    "    y_pred = model.forward(X_test)\n",
    "    y_pred = (y_pred > 0.5).float()  # Thresholding at 0.5\n",
    "    accuracy = (y_pred == y_test).float().mean()\n",
    "    accuracy_percentage = accuracy.item() * 100\n",
    "\n",
    "accuracy_percentage\n"
   ]
  },
  {
   "cell_type": "code",
   "execution_count": null,
   "id": "f4de2eaa",
   "metadata": {},
   "outputs": [],
   "source": []
  }
 ],
 "metadata": {
  "kernelspec": {
   "display_name": "Python 3",
   "language": "python",
   "name": "python3"
  },
  "language_info": {
   "codemirror_mode": {
    "name": "ipython",
    "version": 3
   },
   "file_extension": ".py",
   "mimetype": "text/x-python",
   "name": "python",
   "nbconvert_exporter": "python",
   "pygments_lexer": "ipython3",
   "version": "3.11.8"
  }
 },
 "nbformat": 4,
 "nbformat_minor": 5
}
