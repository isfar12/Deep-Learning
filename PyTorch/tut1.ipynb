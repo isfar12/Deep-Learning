{
 "cells": [
  {
   "cell_type": "code",
   "execution_count": 1,
   "id": "38e70a84",
   "metadata": {},
   "outputs": [],
   "source": [
    "import torch"
   ]
  },
  {
   "cell_type": "code",
   "execution_count": 2,
   "id": "0b72ed18",
   "metadata": {},
   "outputs": [
    {
     "data": {
      "text/plain": [
       "tensor([[0.1518, 0.3928, 0.6438, 0.8670],\n",
       "        [0.8835, 0.3239, 0.7571, 0.8829],\n",
       "        [0.1617, 0.9310, 0.2267, 0.7569]])"
      ]
     },
     "execution_count": 2,
     "metadata": {},
     "output_type": "execute_result"
    }
   ],
   "source": [
    "torch.rand(3,4)"
   ]
  },
  {
   "cell_type": "code",
   "execution_count": 3,
   "id": "013abebd",
   "metadata": {},
   "outputs": [
    {
     "data": {
      "text/plain": [
       "tensor([[1., 1., 1., 1.],\n",
       "        [1., 1., 1., 1.],\n",
       "        [1., 1., 1., 1.]])"
      ]
     },
     "execution_count": 3,
     "metadata": {},
     "output_type": "execute_result"
    }
   ],
   "source": [
    "torch.ones(3,4)"
   ]
  },
  {
   "cell_type": "code",
   "execution_count": 4,
   "id": "a0a5c740",
   "metadata": {},
   "outputs": [
    {
     "data": {
      "text/plain": [
       "tensor([[10, 11, 12, 13, 14],\n",
       "        [15, 16, 17, 18, 19]])"
      ]
     },
     "execution_count": 4,
     "metadata": {},
     "output_type": "execute_result"
    }
   ],
   "source": [
    "torch.arange(10,20).reshape(2,5)"
   ]
  },
  {
   "cell_type": "code",
   "execution_count": 5,
   "id": "a47666e7",
   "metadata": {},
   "outputs": [
    {
     "name": "stdout",
     "output_type": "stream",
     "text": [
      "tensor([4., 6.])\n"
     ]
    }
   ],
   "source": [
    "x = torch.tensor([2.0, 3.0], requires_grad=True)\n",
    "y = x ** 2\n",
    "y.backward(torch.tensor([1.0, 1.0]))\n",
    "print(x.grad)\n"
   ]
  },
  {
   "cell_type": "markdown",
   "id": "a19b9211",
   "metadata": {},
   "source": [
    "y = x ** 2 means: y[0] = 2^2 = 4, y[1] = 3^2 = 9.\n",
    "\n",
    "y.backward(...) computes the gradient of y w.r.t. x using chain rule:\n",
    "\n",
    "dy/dx = 2x → at x = [2.0, 3.0], the gradient = [4.0, 6.0]"
   ]
  },
  {
   "cell_type": "code",
   "execution_count": 6,
   "id": "4aed9acf",
   "metadata": {},
   "outputs": [
    {
     "name": "stdout",
     "output_type": "stream",
     "text": [
      "Gradient of y = x^3 is: tensor([ 3., 12., 27.])\n"
     ]
    }
   ],
   "source": [
    "import torch\n",
    "\n",
    "x = torch.tensor([1.0, 2.0, 3.0], requires_grad=True)\n",
    "y = x ** 3\n",
    "y.backward(torch.tensor([1.0, 1.0, 1.0]))\n",
    "print(\"Gradient of y = x^3 is:\", x.grad)  # Should print 3*x^2\n"
   ]
  },
  {
   "cell_type": "code",
   "execution_count": 7,
   "id": "45fc46bc",
   "metadata": {},
   "outputs": [
    {
     "name": "stdout",
     "output_type": "stream",
     "text": [
      "tensor([2., 2., 2.])\n"
     ]
    }
   ],
   "source": [
    "v = torch.tensor([1.0, 2.0, 3.0], requires_grad=True)\n",
    "z = v * 2\n",
    "z.backward(torch.tensor([1.0, 1.0, 1.0]))  # Simulate sum(z)\n",
    "print(v.grad)  # tensor([2., 2., 2.])\n"
   ]
  },
  {
   "cell_type": "code",
   "execution_count": 8,
   "id": "9f20c163",
   "metadata": {},
   "outputs": [
    {
     "data": {
      "text/plain": [
       "<tf.Tensor: shape=(2, 2), dtype=float32, numpy=\n",
       "array([[0.7452525 , 0.00569022],\n",
       "       [0.079409  , 0.7438755 ]], dtype=float32)>"
      ]
     },
     "execution_count": 8,
     "metadata": {},
     "output_type": "execute_result"
    }
   ],
   "source": [
    "import tensorflow as tf\n",
    "tf.random.uniform((2, 2))"
   ]
  },
  {
   "cell_type": "code",
   "execution_count": 9,
   "id": "85e27f8b",
   "metadata": {},
   "outputs": [
    {
     "data": {
      "text/plain": [
       "tensor([[-1.0535, -0.8992],\n",
       "        [ 0.1945,  1.0450]])"
      ]
     },
     "execution_count": 9,
     "metadata": {},
     "output_type": "execute_result"
    }
   ],
   "source": [
    "torch.randn(2,2)"
   ]
  },
  {
   "cell_type": "code",
   "execution_count": 10,
   "id": "678d3c15",
   "metadata": {},
   "outputs": [
    {
     "name": "stdout",
     "output_type": "stream",
     "text": [
      "tensor(0.)\n",
      "tensor(1.)\n",
      "tensor(2.)\n"
     ]
    }
   ],
   "source": [
    "x = torch.tensor(3.0, requires_grad=True)\n",
    "\n",
    "for i in range(3):\n",
    "    y = x * i\n",
    "    y.backward()\n",
    "    print(x.grad)  # Gradients accumulate!\n",
    "\n",
    "    x.grad.zero_()  # Clear old gradients before next loop\n",
    "\n"
   ]
  },
  {
   "cell_type": "code",
   "execution_count": 11,
   "id": "3863cece",
   "metadata": {},
   "outputs": [
    {
     "name": "stdout",
     "output_type": "stream",
     "text": [
      "x: 5.0, dy/dx: 147.0\n"
     ]
    }
   ],
   "source": [
    "x = torch.tensor(5.0, requires_grad=True)\n",
    "y = (x + 2) ** 3\n",
    "y.backward()\n",
    "print(f\"x: {x.item()}, dy/dx: {x.grad.item()}\")\n"
   ]
  },
  {
   "cell_type": "markdown",
   "id": "a8478061",
   "metadata": {},
   "source": [
    "y=wx+b and z=sigmoid(y) we need to find gradient of x and b"
   ]
  },
  {
   "cell_type": "code",
   "execution_count": 21,
   "id": "a1e01866",
   "metadata": {},
   "outputs": [],
   "source": [
    "x=torch.tensor([2.,3.])\n",
    "w=torch.tensor([1.0, 1.0],requires_grad=True)\n",
    "b=torch.tensor([4.],requires_grad=True)\n",
    "y_true=torch.tensor([6])\n",
    "\n",
    "z=torch.matmul(w,x)+b\n",
    "\n",
    "y_pred=torch.sigmoid(z)\n",
    "\n",
    "loss = - (y_true * torch.log(y_pred) + (1 - y_true) * torch.log(1 - y_pred))\n",
    "loss.backward()"
   ]
  },
  {
   "cell_type": "code",
   "execution_count": 22,
   "id": "3e4fdc07",
   "metadata": {},
   "outputs": [
    {
     "data": {
      "text/plain": [
       "tensor([-10.0002, -15.0004])"
      ]
     },
     "execution_count": 22,
     "metadata": {},
     "output_type": "execute_result"
    }
   ],
   "source": [
    "w.grad"
   ]
  },
  {
   "cell_type": "markdown",
   "id": "9c876b43",
   "metadata": {},
   "source": [
    "visualizing the flow"
   ]
  },
  {
   "cell_type": "code",
   "execution_count": null,
   "id": "6680d2e5",
   "metadata": {},
   "outputs": [
    {
     "data": {
      "text/plain": [
       "'graph.png'"
      ]
     },
     "execution_count": 23,
     "metadata": {},
     "output_type": "execute_result"
    }
   ],
   "source": [
    "from torchviz import make_dot\n",
    "\n",
    "# Create the tensor and perform operations as before\n",
    "# Create the tensor and perform operations as before\n",
    "x = torch.tensor(3.0, requires_grad=True)\n",
    "y = x ** 2\n",
    "z = y + 2\n",
    "\n",
    "# Visualize the computation graph\n",
    "make_dot(z, params={\"x\": x}).render(\"graph\", format=\"png\")\n"
   ]
  },
  {
   "cell_type": "code",
   "execution_count": null,
   "id": "aded93ee",
   "metadata": {},
   "outputs": [],
   "source": []
  }
 ],
 "metadata": {
  "kernelspec": {
   "display_name": "Python 3",
   "language": "python",
   "name": "python3"
  },
  "language_info": {
   "codemirror_mode": {
    "name": "ipython",
    "version": 3
   },
   "file_extension": ".py",
   "mimetype": "text/x-python",
   "name": "python",
   "nbconvert_exporter": "python",
   "pygments_lexer": "ipython3",
   "version": "3.11.8"
  }
 },
 "nbformat": 4,
 "nbformat_minor": 5
}
