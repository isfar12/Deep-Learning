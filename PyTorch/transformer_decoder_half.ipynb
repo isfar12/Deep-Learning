{
 "cells": [
  {
   "cell_type": "code",
   "execution_count": 93,
   "id": "86fde004",
   "metadata": {},
   "outputs": [],
   "source": [
    "import pandas as pd\n",
    "import numpy as np\n",
    "import torch\n",
    "import torch.nn as nn\n",
    "import torch.nn.functional as F\n",
    "\n",
    "import lightning as L"
   ]
  },
  {
   "cell_type": "markdown",
   "id": "378cfec8",
   "metadata": {},
   "source": [
    "# What a positional encoding matrix will look like"
   ]
  },
  {
   "cell_type": "code",
   "execution_count": 94,
   "id": "f1cfeafd",
   "metadata": {},
   "outputs": [
    {
     "data": {
      "text/plain": [
       "tensor([[0., 0., 0., 0., 0., 0.],\n",
       "        [0., 0., 0., 0., 0., 0.],\n",
       "        [0., 0., 0., 0., 0., 0.],\n",
       "        [0., 0., 0., 0., 0., 0.]])"
      ]
     },
     "execution_count": 94,
     "metadata": {},
     "output_type": "execute_result"
    }
   ],
   "source": [
    "pos_encode_matrix=torch.zeros(4, 6)\n",
    "pos_encode_matrix"
   ]
  },
  {
   "cell_type": "markdown",
   "id": "9fd94cc0",
   "metadata": {},
   "source": [
    "# The positions of the rows "
   ]
  },
  {
   "cell_type": "code",
   "execution_count": 95,
   "id": "a04b2316",
   "metadata": {},
   "outputs": [
    {
     "data": {
      "text/plain": [
       "tensor([[0.],\n",
       "        [1.],\n",
       "        [2.],\n",
       "        [3.]])"
      ]
     },
     "execution_count": 95,
     "metadata": {},
     "output_type": "execute_result"
    }
   ],
   "source": [
    "positions=torch.arange(start=0,end=4).float().unsqueeze(1)\n",
    "positions"
   ]
  },
  {
   "cell_type": "markdown",
   "id": "7137a262",
   "metadata": {},
   "source": [
    "# How to calculate\n",
    "$$\n",
    "\\left(\\frac{1}{10000.0 ^ {\\frac{2d}{d_{\\text{model}}}}}\\right)\n",
    "$$\n",
    "of Positional Encoding\n",
    "$$\n",
    "PE(i, 2d) = \\sin\\left(\\frac{i}{10000^{\\frac{2d}{d_{\\text{model}}}}}\\right)\n",
    "$$\n",
    "\n",
    "$$\n",
    "PE(i, 2d+1) = \\cos\\left(\\frac{i}{10000^{\\frac{2d}{d_{\\text{model}}}}}\\right)\n",
    "$$\n",
    "\n",
    "Where:\n",
    "\n",
    "* $PE(i, d)$ is the positional encoding for the position $i$ at dimension $d$\n",
    "* $i$ is the position of the word in the sequence (starting from 0)\n",
    "* $d$ is the dimension of the embedding (starting from 0)\n",
    "* $d_{\\text{model}}$ is the total dimensionality of the model's input (embedding size, e.g., 512, 1024)"
   ]
  },
  {
   "cell_type": "code",
   "execution_count": 96,
   "id": "5197fb49",
   "metadata": {},
   "outputs": [
    {
     "data": {
      "text/plain": [
       "tensor([2, 4, 6])"
      ]
     },
     "execution_count": 96,
     "metadata": {},
     "output_type": "execute_result"
    }
   ],
   "source": [
    "2*torch.tensor([1,2,3])"
   ]
  },
  {
   "cell_type": "code",
   "execution_count": 97,
   "id": "748f37ca",
   "metadata": {},
   "outputs": [
    {
     "data": {
      "text/plain": [
       "tensor([4.6416e-02, 2.1544e-03, 1.0000e-04])"
      ]
     },
     "execution_count": 97,
     "metadata": {},
     "output_type": "execute_result"
    }
   ],
   "source": [
    "div_term=1/(torch.tensor(10000.0)**(torch.tensor([2,4,6])/6))\n",
    "div_term\n",
    "# 1   /    (10000     **   [2/6, 4/6, 6/6] )"
   ]
  },
  {
   "cell_type": "markdown",
   "id": "ea755498",
   "metadata": {},
   "source": [
    "$$\n",
    "\\frac{1}{\\left(10000^{\\left[\\frac{2}{6}, \\frac{4}{6}, \\frac{6}{6}\\right]}\\right)}\n",
    "$$\n",
    "\n",
    "### Step-by-Step Breakdown:\n",
    "\n",
    "1. **Exponentiation**:\n",
    "   We're calculating $10000^{\\left[\\frac{2}{6}, \\frac{4}{6}, \\frac{6}{6}\\right]}$, which simplifies to:\n",
    "\n",
    "   * $10000^{0.3333}$, $10000^{0.6667}$,  $10000^{1}$\n",
    "\n",
    "2. **Calculating each power**:\n",
    "\n",
    "   * $10000^{0.3333} \\approx 21.5443$\n",
    "   * $10000^{0.6667} \\approx 147.5443$\n",
    "   * $10000^{1} = 10000$\n",
    "\n",
    "3. **Division by 6**:\n",
    "   We now divide these values by 6:\n",
    "\n",
    "   * $21.5443 / 6 \\approx 3.5907$\n",
    "   * $147.5443 / 6 \\approx 24.5907$\n",
    "   * $10000 / 6 \\approx 1666.6667$\n",
    "\n",
    "4. **Inversion**:\n",
    "   Finally, we take the inverse of these values:\n",
    "\n",
    "   * $\\frac{1}{3.5907} \\approx 0.2786$\n",
    "   * $\\frac{1}{24.5907} \\approx 0.0407$\n",
    "   * $\\frac{1}{1666.6667} \\approx 0.0006$\n",
    "\n",
    "The output tensor is:\n",
    "\n",
    "```\n",
    "tensor([4.6416e-02, 2.1544e-03, 1.0000e-04])\n",
    "```\n",
    "\n",
    "* $4.6416e-02$ is the result of $\\frac{1}{3.5907}$\n",
    "* $2.1544e-03$ is the result of $\\frac{1}{24.5907}$\n",
    "* $1.0000e-04$ is the result of $\\frac{1}{1666.6667}$\n"
   ]
  },
  {
   "cell_type": "markdown",
   "id": "320ef404",
   "metadata": {},
   "source": [
    "# How to put the sin values in the even positions and the cos values in the odd positions of the positional_encoding_matrix"
   ]
  },
  {
   "cell_type": "code",
   "execution_count": 98,
   "id": "51980215",
   "metadata": {},
   "outputs": [
    {
     "data": {
      "text/plain": [
       "tensor([[0.0000e+00, 0.0000e+00, 0.0000e+00],\n",
       "        [4.6399e-02, 2.1544e-03, 1.0000e-04],\n",
       "        [9.2698e-02, 4.3089e-03, 2.0000e-04],\n",
       "        [1.3880e-01, 6.4633e-03, 3.0000e-04]])"
      ]
     },
     "execution_count": 98,
     "metadata": {},
     "output_type": "execute_result"
    }
   ],
   "source": [
    "torch.sin(positions * div_term) #  even position values"
   ]
  },
  {
   "cell_type": "code",
   "execution_count": 99,
   "id": "745a7fba",
   "metadata": {},
   "outputs": [
    {
     "data": {
      "text/plain": [
       "tensor([[1.0000, 1.0000, 1.0000],\n",
       "        [0.9989, 1.0000, 1.0000],\n",
       "        [0.9957, 1.0000, 1.0000],\n",
       "        [0.9903, 1.0000, 1.0000]])"
      ]
     },
     "execution_count": 99,
     "metadata": {},
     "output_type": "execute_result"
    }
   ],
   "source": [
    "torch.cos(positions * div_term) #  odd position values"
   ]
  },
  {
   "cell_type": "code",
   "execution_count": 100,
   "id": "c209612d",
   "metadata": {},
   "outputs": [
    {
     "data": {
      "text/plain": [
       "tensor([[0., 0., 0., 0., 0., 0.],\n",
       "        [0., 0., 0., 0., 0., 0.],\n",
       "        [0., 0., 0., 0., 0., 0.],\n",
       "        [0., 0., 0., 0., 0., 0.]])"
      ]
     },
     "execution_count": 100,
     "metadata": {},
     "output_type": "execute_result"
    }
   ],
   "source": [
    "pos_encode_matrix"
   ]
  },
  {
   "cell_type": "code",
   "execution_count": 101,
   "id": "b63bcf2b",
   "metadata": {},
   "outputs": [
    {
     "data": {
      "text/plain": [
       "tensor([[0.0000e+00, 0.0000e+00, 0.0000e+00, 0.0000e+00, 0.0000e+00, 0.0000e+00],\n",
       "        [4.6399e-02, 0.0000e+00, 2.1544e-03, 0.0000e+00, 1.0000e-04, 0.0000e+00],\n",
       "        [9.2698e-02, 0.0000e+00, 4.3089e-03, 0.0000e+00, 2.0000e-04, 0.0000e+00],\n",
       "        [1.3880e-01, 0.0000e+00, 6.4633e-03, 0.0000e+00, 3.0000e-04, 0.0000e+00]])"
      ]
     },
     "execution_count": 101,
     "metadata": {},
     "output_type": "execute_result"
    }
   ],
   "source": [
    "pos_encode_matrix[:,0::2]=torch.sin(positions * div_term) # Fill even positions of each column with sine values\n",
    "pos_encode_matrix"
   ]
  },
  {
   "cell_type": "code",
   "execution_count": 102,
   "id": "c436c441",
   "metadata": {},
   "outputs": [
    {
     "data": {
      "text/plain": [
       "tensor([[0.0000e+00, 1.0000e+00, 0.0000e+00, 1.0000e+00, 0.0000e+00, 1.0000e+00],\n",
       "        [4.6399e-02, 9.9892e-01, 2.1544e-03, 1.0000e+00, 1.0000e-04, 1.0000e+00],\n",
       "        [9.2698e-02, 9.9569e-01, 4.3089e-03, 9.9999e-01, 2.0000e-04, 1.0000e+00],\n",
       "        [1.3880e-01, 9.9032e-01, 6.4633e-03, 9.9998e-01, 3.0000e-04, 1.0000e+00]])"
      ]
     },
     "execution_count": 102,
     "metadata": {},
     "output_type": "execute_result"
    }
   ],
   "source": [
    "\n",
    "pos_encode_matrix[:,1::2]=torch.cos(positions * div_term) # Fill odd positions of each column with cosine values\n",
    "pos_encode_matrix"
   ]
  },
  {
   "cell_type": "code",
   "execution_count": 103,
   "id": "cd745b78",
   "metadata": {},
   "outputs": [
    {
     "data": {
      "text/plain": [
       "tensor([0., 2., 4.])"
      ]
     },
     "execution_count": 103,
     "metadata": {},
     "output_type": "execute_result"
    }
   ],
   "source": [
    "embedding_index=torch.arange(start=0,end=6,step=2).float()\n",
    "embedding_index"
   ]
  },
  {
   "cell_type": "code",
   "execution_count": 106,
   "id": "9bf2a11f",
   "metadata": {},
   "outputs": [],
   "source": [
    "class PositionalEncoding(nn.Module):\n",
    "    def __init__(self,d_model=2,max_len=6):\n",
    "        super().__init__()\n",
    "\n",
    "        positional_encoding_matrix=torch.zeros(max_len,d_model)\n",
    "        positions=torch.arange(start=0,end=max_len).float().unsqueeze(1) # Create a column vector of positions\n",
    "        embedding_index=torch.arange(start=0,end=d_model,step=2).float()\n",
    "\n",
    "        div_term=1/torch.tensor(10000**(embedding_index/d_model))\n",
    "\n",
    "        positional_encoding_matrix[:,0::2]=torch.sin(positions * div_term)\n",
    "        positional_encoding_matrix[:,1::2]=torch.cos(positions * div_term)\n",
    "\n",
    "        self.register_buffer(\"pe\",positional_encoding_matrix)\n",
    "        \n",
    "    def forward(self, word_embeddings):\n",
    "        return word_embeddings + self.pe[:word_embeddings.size(0),:]"
   ]
  },
  {
   "cell_type": "code",
   "execution_count": null,
   "id": "fbd48887",
   "metadata": {},
   "outputs": [],
   "source": [
    "class Attention(nn.Module):\n",
    "    def __init(self,d_model=2):\n",
    "        super().__init__()\n",
    "        "
   ]
  },
  {
   "cell_type": "code",
   "execution_count": null,
   "id": "5d20f4e3",
   "metadata": {},
   "outputs": [],
   "source": []
  }
 ],
 "metadata": {
  "kernelspec": {
   "display_name": "Python 3",
   "language": "python",
   "name": "python3"
  },
  "language_info": {
   "codemirror_mode": {
    "name": "ipython",
    "version": 3
   },
   "file_extension": ".py",
   "mimetype": "text/x-python",
   "name": "python",
   "nbconvert_exporter": "python",
   "pygments_lexer": "ipython3",
   "version": "3.11.8"
  }
 },
 "nbformat": 4,
 "nbformat_minor": 5
}
