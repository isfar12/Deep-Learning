{
 "cells": [
  {
   "cell_type": "code",
   "execution_count": 45,
   "id": "3cc071ca",
   "metadata": {},
   "outputs": [],
   "source": [
    "import pandas as pd\n",
    "import numpy as np\n"
   ]
  },
  {
   "cell_type": "code",
   "execution_count": 46,
   "id": "99cb38ea",
   "metadata": {},
   "outputs": [
    {
     "data": {
      "text/html": [
       "<div>\n",
       "<style scoped>\n",
       "    .dataframe tbody tr th:only-of-type {\n",
       "        vertical-align: middle;\n",
       "    }\n",
       "\n",
       "    .dataframe tbody tr th {\n",
       "        vertical-align: top;\n",
       "    }\n",
       "\n",
       "    .dataframe thead th {\n",
       "        text-align: right;\n",
       "    }\n",
       "</style>\n",
       "<table border=\"1\" class=\"dataframe\">\n",
       "  <thead>\n",
       "    <tr style=\"text-align: right;\">\n",
       "      <th></th>\n",
       "      <th>id</th>\n",
       "      <th>day</th>\n",
       "      <th>pressure</th>\n",
       "      <th>maxtemp</th>\n",
       "      <th>temparature</th>\n",
       "      <th>mintemp</th>\n",
       "      <th>dewpoint</th>\n",
       "      <th>humidity</th>\n",
       "      <th>cloud</th>\n",
       "      <th>sunshine</th>\n",
       "      <th>winddirection</th>\n",
       "      <th>windspeed</th>\n",
       "      <th>rainfall</th>\n",
       "    </tr>\n",
       "  </thead>\n",
       "  <tbody>\n",
       "    <tr>\n",
       "      <th>0</th>\n",
       "      <td>0</td>\n",
       "      <td>1</td>\n",
       "      <td>1017.4</td>\n",
       "      <td>21.2</td>\n",
       "      <td>20.6</td>\n",
       "      <td>19.9</td>\n",
       "      <td>19.4</td>\n",
       "      <td>87.0</td>\n",
       "      <td>88.0</td>\n",
       "      <td>1.1</td>\n",
       "      <td>60.0</td>\n",
       "      <td>17.2</td>\n",
       "      <td>1</td>\n",
       "    </tr>\n",
       "    <tr>\n",
       "      <th>1</th>\n",
       "      <td>1</td>\n",
       "      <td>2</td>\n",
       "      <td>1019.5</td>\n",
       "      <td>16.2</td>\n",
       "      <td>16.9</td>\n",
       "      <td>15.8</td>\n",
       "      <td>15.4</td>\n",
       "      <td>95.0</td>\n",
       "      <td>91.0</td>\n",
       "      <td>0.0</td>\n",
       "      <td>50.0</td>\n",
       "      <td>21.9</td>\n",
       "      <td>1</td>\n",
       "    </tr>\n",
       "    <tr>\n",
       "      <th>2</th>\n",
       "      <td>2</td>\n",
       "      <td>3</td>\n",
       "      <td>1024.1</td>\n",
       "      <td>19.4</td>\n",
       "      <td>16.1</td>\n",
       "      <td>14.6</td>\n",
       "      <td>9.3</td>\n",
       "      <td>75.0</td>\n",
       "      <td>47.0</td>\n",
       "      <td>8.3</td>\n",
       "      <td>70.0</td>\n",
       "      <td>18.1</td>\n",
       "      <td>1</td>\n",
       "    </tr>\n",
       "    <tr>\n",
       "      <th>3</th>\n",
       "      <td>3</td>\n",
       "      <td>4</td>\n",
       "      <td>1013.4</td>\n",
       "      <td>18.1</td>\n",
       "      <td>17.8</td>\n",
       "      <td>16.9</td>\n",
       "      <td>16.8</td>\n",
       "      <td>95.0</td>\n",
       "      <td>95.0</td>\n",
       "      <td>0.0</td>\n",
       "      <td>60.0</td>\n",
       "      <td>35.6</td>\n",
       "      <td>1</td>\n",
       "    </tr>\n",
       "    <tr>\n",
       "      <th>4</th>\n",
       "      <td>4</td>\n",
       "      <td>5</td>\n",
       "      <td>1021.8</td>\n",
       "      <td>21.3</td>\n",
       "      <td>18.4</td>\n",
       "      <td>15.2</td>\n",
       "      <td>9.6</td>\n",
       "      <td>52.0</td>\n",
       "      <td>45.0</td>\n",
       "      <td>3.6</td>\n",
       "      <td>40.0</td>\n",
       "      <td>24.8</td>\n",
       "      <td>0</td>\n",
       "    </tr>\n",
       "  </tbody>\n",
       "</table>\n",
       "</div>"
      ],
      "text/plain": [
       "   id  day  pressure  maxtemp  temparature  mintemp  dewpoint  humidity  \\\n",
       "0   0    1    1017.4     21.2         20.6     19.9      19.4      87.0   \n",
       "1   1    2    1019.5     16.2         16.9     15.8      15.4      95.0   \n",
       "2   2    3    1024.1     19.4         16.1     14.6       9.3      75.0   \n",
       "3   3    4    1013.4     18.1         17.8     16.9      16.8      95.0   \n",
       "4   4    5    1021.8     21.3         18.4     15.2       9.6      52.0   \n",
       "\n",
       "   cloud  sunshine  winddirection  windspeed  rainfall  \n",
       "0   88.0       1.1           60.0       17.2         1  \n",
       "1   91.0       0.0           50.0       21.9         1  \n",
       "2   47.0       8.3           70.0       18.1         1  \n",
       "3   95.0       0.0           60.0       35.6         1  \n",
       "4   45.0       3.6           40.0       24.8         0  "
      ]
     },
     "execution_count": 46,
     "metadata": {},
     "output_type": "execute_result"
    }
   ],
   "source": [
    "df=pd.read_csv(r\"e:\\Machine Learning\\Dataset\\rainfall_predict_train.csv\")\n",
    "df.head()"
   ]
  },
  {
   "cell_type": "code",
   "execution_count": 47,
   "id": "feb48ccb",
   "metadata": {},
   "outputs": [],
   "source": [
    "df.drop(columns=[\"id\"], inplace=True)"
   ]
  },
  {
   "cell_type": "code",
   "execution_count": 48,
   "id": "e95bc420",
   "metadata": {},
   "outputs": [],
   "source": [
    "from sklearn.model_selection import train_test_split\n",
    "\n",
    "x=df.drop(columns=[\"rainfall\"])\n",
    "y=df[\"rainfall\"]\n",
    "\n",
    "x_train, x_test, y_train, y_test = train_test_split(x, y, test_size=0.2, random_state=42)\n"
   ]
  },
  {
   "cell_type": "code",
   "execution_count": 49,
   "id": "04298427",
   "metadata": {},
   "outputs": [],
   "source": [
    "from sklearn.preprocessing import StandardScaler\n",
    "\n",
    "scaler=StandardScaler()\n",
    "x_train_scaled=scaler.fit_transform(x_train)\n",
    "x_test_scaled=scaler.transform(x_test)  \n"
   ]
  },
  {
   "cell_type": "code",
   "execution_count": 50,
   "id": "c231a7cd",
   "metadata": {},
   "outputs": [],
   "source": [
    "import torch\n",
    "import torch.nn as nn\n",
    "import torch.optim as optim"
   ]
  },
  {
   "cell_type": "code",
   "execution_count": 51,
   "id": "fdf36161",
   "metadata": {},
   "outputs": [],
   "source": [
    "class RainFallPredictor(nn.Module):\n",
    "    def __init__(self,input_size):\n",
    "        super(RainFallPredictor, self).__init__()\n",
    "\n",
    "        self.model=nn.Sequential(\n",
    "            nn.Linear(input_size, 64),\n",
    "            nn.ReLU(),\n",
    "            nn.Linear(64, 32),\n",
    "            nn.ReLU(),\n",
    "            nn.Linear(32, 1),\n",
    "            nn.Sigmoid()\n",
    "        )\n",
    "    def forward(self, x):\n",
    "        return self.model(x)"
   ]
  },
  {
   "cell_type": "code",
   "execution_count": 52,
   "id": "a4e72d0d",
   "metadata": {},
   "outputs": [],
   "source": [
    "model=RainFallPredictor(x_train_scaled.shape[1])\n"
   ]
  },
  {
   "cell_type": "code",
   "execution_count": 53,
   "id": "f83065d7",
   "metadata": {},
   "outputs": [],
   "source": [
    "from torch.utils.data import Dataset, DataLoader\n",
    "\n",
    "class RainFallDataset(Dataset):\n",
    "    def __init__(self,features,labels):\n",
    "        self.features=features\n",
    "        self.labels=labels\n",
    "\n",
    "    def __len__(self):\n",
    "        return len(self.features)\n",
    "    \n",
    "    def __getitem__(self, idx):\n",
    "        feature = torch.tensor(self.features[idx], dtype=torch.float32)\n",
    "        label = torch.tensor(self.labels[idx], dtype=torch.float32)\n",
    "        return feature, label\n"
   ]
  },
  {
   "cell_type": "code",
   "execution_count": 54,
   "id": "c17ed2f9",
   "metadata": {},
   "outputs": [
    {
     "data": {
      "text/plain": [
       "array([1, 1, 0, ..., 0, 1, 1], dtype=int64)"
      ]
     },
     "execution_count": 54,
     "metadata": {},
     "output_type": "execute_result"
    }
   ],
   "source": [
    "y_train.values"
   ]
  },
  {
   "cell_type": "code",
   "execution_count": 55,
   "id": "bea0cec5",
   "metadata": {},
   "outputs": [],
   "source": [
    "dataset=RainFallDataset(x_train_scaled, y_train.values)"
   ]
  },
  {
   "cell_type": "code",
   "execution_count": 56,
   "id": "50bc7bd1",
   "metadata": {},
   "outputs": [
    {
     "data": {
      "text/plain": [
       "(tensor([-1.2520e+00,  1.0633e-03, -7.1099e-01, -7.3484e-01, -6.6631e-01,\n",
       "         -2.3138e-01,  1.1498e+00,  2.3525e-01, -1.0304e+00, -8.0429e-01,\n",
       "         -9.4756e-01]),\n",
       " tensor(1.))"
      ]
     },
     "execution_count": 56,
     "metadata": {},
     "output_type": "execute_result"
    }
   ],
   "source": [
    "dataset[1]"
   ]
  },
  {
   "cell_type": "code",
   "execution_count": 57,
   "id": "75a7d9cf",
   "metadata": {},
   "outputs": [],
   "source": [
    "dataloader=DataLoader(dataset,shuffle=True,batch_size=32)"
   ]
  },
  {
   "cell_type": "code",
   "execution_count": 59,
   "id": "04ca1e5f",
   "metadata": {},
   "outputs": [
    {
     "name": "stdout",
     "output_type": "stream",
     "text": [
      "Epoch 1/50, Loss: 0.3061\n",
      "Epoch 2/50, Loss: 0.3453\n",
      "Epoch 3/50, Loss: 0.3409\n",
      "Epoch 4/50, Loss: 0.2873\n",
      "Epoch 5/50, Loss: 0.3041\n",
      "Epoch 6/50, Loss: 0.1478\n",
      "Epoch 7/50, Loss: 0.2823\n",
      "Epoch 8/50, Loss: 0.1894\n",
      "Epoch 9/50, Loss: 0.3648\n",
      "Epoch 10/50, Loss: 0.3921\n",
      "Epoch 11/50, Loss: 0.2725\n",
      "Epoch 12/50, Loss: 0.1888\n",
      "Epoch 13/50, Loss: 0.3538\n",
      "Epoch 14/50, Loss: 0.3089\n",
      "Epoch 15/50, Loss: 0.1408\n",
      "Epoch 16/50, Loss: 0.2173\n",
      "Epoch 17/50, Loss: 0.2147\n",
      "Epoch 18/50, Loss: 0.3491\n",
      "Epoch 19/50, Loss: 0.3273\n",
      "Epoch 20/50, Loss: 0.6222\n",
      "Epoch 21/50, Loss: 0.3434\n",
      "Epoch 22/50, Loss: 0.3331\n",
      "Epoch 23/50, Loss: 0.0970\n",
      "Epoch 24/50, Loss: 0.3121\n",
      "Epoch 25/50, Loss: 0.1734\n",
      "Epoch 26/50, Loss: 0.1352\n",
      "Epoch 27/50, Loss: 0.2300\n",
      "Epoch 28/50, Loss: 0.1398\n",
      "Epoch 29/50, Loss: 0.2840\n",
      "Epoch 30/50, Loss: 0.6551\n",
      "Epoch 31/50, Loss: 0.3016\n",
      "Epoch 32/50, Loss: 0.2447\n",
      "Epoch 33/50, Loss: 0.3397\n",
      "Epoch 34/50, Loss: 0.4609\n",
      "Epoch 35/50, Loss: 0.4851\n",
      "Epoch 36/50, Loss: 0.3474\n",
      "Epoch 37/50, Loss: 0.1688\n",
      "Epoch 38/50, Loss: 0.1859\n",
      "Epoch 39/50, Loss: 0.1683\n",
      "Epoch 40/50, Loss: 0.0993\n",
      "Epoch 41/50, Loss: 0.2387\n",
      "Epoch 42/50, Loss: 0.0958\n",
      "Epoch 43/50, Loss: 0.2045\n",
      "Epoch 44/50, Loss: 0.1731\n",
      "Epoch 45/50, Loss: 0.1768\n",
      "Epoch 46/50, Loss: 0.2592\n",
      "Epoch 47/50, Loss: 0.1583\n",
      "Epoch 48/50, Loss: 0.1220\n",
      "Epoch 49/50, Loss: 0.2500\n",
      "Epoch 50/50, Loss: 0.2762\n"
     ]
    }
   ],
   "source": [
    "optimizer=optim.Adam(model.parameters(), lr=0.001)\n",
    "\n",
    "loss_function=nn.BCELoss()\n",
    "\n",
    "num_epochs = 50\n",
    "\n",
    "for epoch in range(num_epochs):\n",
    "\n",
    "    for features,labels in dataloader:\n",
    "        \n",
    "        predictions=model(features)\n",
    "\n",
    "        loss=loss_function(predictions, labels.view(-1, 1))\n",
    "\n",
    "        optimizer.zero_grad()\n",
    "\n",
    "        loss.backward()\n",
    "\n",
    "        optimizer.step()\n",
    "\n",
    "        \n",
    "    print(f\"Epoch {epoch+1}/{num_epochs}, Loss: {loss.item():.4f}\")\n",
    "        \n"
   ]
  },
  {
   "cell_type": "code",
   "execution_count": 60,
   "id": "39daa572",
   "metadata": {},
   "outputs": [
    {
     "name": "stdout",
     "output_type": "stream",
     "text": [
      "Epoch 1/50, Average Loss: 0.2676\n",
      "Epoch 2/50, Average Loss: 0.2657\n",
      "Epoch 3/50, Average Loss: 0.2650\n",
      "Epoch 4/50, Average Loss: 0.2630\n",
      "Epoch 5/50, Average Loss: 0.2636\n",
      "Epoch 6/50, Average Loss: 0.2650\n",
      "Epoch 7/50, Average Loss: 0.2622\n",
      "Epoch 8/50, Average Loss: 0.2622\n",
      "Epoch 9/50, Average Loss: 0.2627\n",
      "Epoch 10/50, Average Loss: 0.2592\n",
      "Epoch 11/50, Average Loss: 0.2606\n",
      "Epoch 12/50, Average Loss: 0.2601\n",
      "Epoch 13/50, Average Loss: 0.2574\n",
      "Epoch 14/50, Average Loss: 0.2567\n",
      "Epoch 15/50, Average Loss: 0.2565\n",
      "Epoch 16/50, Average Loss: 0.2571\n",
      "Epoch 17/50, Average Loss: 0.2570\n",
      "Epoch 18/50, Average Loss: 0.2527\n",
      "Epoch 19/50, Average Loss: 0.2521\n",
      "Epoch 20/50, Average Loss: 0.2520\n",
      "Epoch 21/50, Average Loss: 0.2520\n",
      "Epoch 22/50, Average Loss: 0.2507\n",
      "Epoch 23/50, Average Loss: 0.2499\n",
      "Epoch 24/50, Average Loss: 0.2525\n",
      "Epoch 25/50, Average Loss: 0.2510\n",
      "Epoch 26/50, Average Loss: 0.2470\n",
      "Epoch 27/50, Average Loss: 0.2509\n",
      "Epoch 28/50, Average Loss: 0.2454\n",
      "Epoch 29/50, Average Loss: 0.2449\n",
      "Epoch 30/50, Average Loss: 0.2451\n",
      "Epoch 31/50, Average Loss: 0.2462\n",
      "Epoch 32/50, Average Loss: 0.2472\n",
      "Epoch 33/50, Average Loss: 0.2441\n",
      "Epoch 34/50, Average Loss: 0.2387\n",
      "Epoch 35/50, Average Loss: 0.2443\n",
      "Epoch 36/50, Average Loss: 0.2414\n",
      "Epoch 37/50, Average Loss: 0.2404\n",
      "Epoch 38/50, Average Loss: 0.2380\n",
      "Epoch 39/50, Average Loss: 0.2373\n",
      "Epoch 40/50, Average Loss: 0.2371\n",
      "Epoch 41/50, Average Loss: 0.2382\n",
      "Epoch 42/50, Average Loss: 0.2367\n",
      "Epoch 43/50, Average Loss: 0.2357\n",
      "Epoch 44/50, Average Loss: 0.2348\n",
      "Epoch 45/50, Average Loss: 0.2372\n",
      "Epoch 46/50, Average Loss: 0.2309\n",
      "Epoch 47/50, Average Loss: 0.2294\n",
      "Epoch 48/50, Average Loss: 0.2324\n",
      "Epoch 49/50, Average Loss: 0.2346\n",
      "Epoch 50/50, Average Loss: 0.2263\n"
     ]
    }
   ],
   "source": [
    "optimizer = optim.Adam(model.parameters(), lr=0.001)\n",
    "loss_function = nn.BCELoss()\n",
    "num_epochs = 50\n",
    "\n",
    "for epoch in range(num_epochs):\n",
    "    epoch_loss = 0.0  # sum of losses\n",
    "    num_batches = 0\n",
    "\n",
    "    for features, labels in dataloader:\n",
    "        predictions = model(features)\n",
    "        loss = loss_function(predictions, labels.view(-1, 1))\n",
    "\n",
    "        optimizer.zero_grad()\n",
    "        loss.backward()\n",
    "        optimizer.step()\n",
    "\n",
    "        epoch_loss += loss.item()\n",
    "        num_batches += 1\n",
    "\n",
    "    avg_loss = epoch_loss / num_batches\n",
    "    print(f\"Epoch {epoch+1}/{num_epochs}, Average Loss: {avg_loss:.4f}\")\n"
   ]
  },
  {
   "cell_type": "code",
   "execution_count": 61,
   "id": "75666065",
   "metadata": {},
   "outputs": [
    {
     "name": "stdout",
     "output_type": "stream",
     "text": [
      "Epoch 1/50, Average Loss: 0.2258\n",
      "Epoch 2/50, Average Loss: 0.2297\n",
      "Epoch 3/50, Average Loss: 0.2253\n",
      "Epoch 4/50, Average Loss: 0.2266\n",
      "Epoch 5/50, Average Loss: 0.2261\n",
      "Epoch 6/50, Average Loss: 0.2253\n",
      "Epoch 7/50, Average Loss: 0.2235\n",
      "Epoch 8/50, Average Loss: 0.2216\n",
      "Epoch 9/50, Average Loss: 0.2236\n",
      "Epoch 10/50, Average Loss: 0.2220\n",
      "Epoch 11/50, Average Loss: 0.2218\n",
      "Epoch 12/50, Average Loss: 0.2205\n",
      "Epoch 13/50, Average Loss: 0.2199\n",
      "Epoch 14/50, Average Loss: 0.2221\n",
      "Epoch 15/50, Average Loss: 0.2178\n",
      "Epoch 16/50, Average Loss: 0.2177\n",
      "Epoch 17/50, Average Loss: 0.2165\n",
      "Epoch 18/50, Average Loss: 0.2160\n",
      "Epoch 19/50, Average Loss: 0.2165\n",
      "Epoch 20/50, Average Loss: 0.2112\n",
      "Epoch 21/50, Average Loss: 0.2137\n",
      "Epoch 22/50, Average Loss: 0.2185\n",
      "Epoch 23/50, Average Loss: 0.2138\n",
      "Epoch 24/50, Average Loss: 0.2097\n",
      "Epoch 25/50, Average Loss: 0.2091\n",
      "Epoch 26/50, Average Loss: 0.2057\n",
      "Epoch 27/50, Average Loss: 0.2101\n",
      "Epoch 28/50, Average Loss: 0.2111\n",
      "Epoch 29/50, Average Loss: 0.2059\n",
      "Epoch 30/50, Average Loss: 0.2063\n",
      "Epoch 31/50, Average Loss: 0.2058\n",
      "Epoch 32/50, Average Loss: 0.2049\n",
      "Epoch 33/50, Average Loss: 0.2062\n",
      "Epoch 34/50, Average Loss: 0.2066\n",
      "Epoch 35/50, Average Loss: 0.2030\n",
      "Epoch 36/50, Average Loss: 0.2037\n",
      "Epoch 37/50, Average Loss: 0.2027\n",
      "Epoch 38/50, Average Loss: 0.2029\n",
      "Epoch 39/50, Average Loss: 0.1998\n",
      "Epoch 40/50, Average Loss: 0.2013\n",
      "Epoch 41/50, Average Loss: 0.2008\n",
      "Epoch 42/50, Average Loss: 0.2027\n",
      "Epoch 43/50, Average Loss: 0.1989\n",
      "Epoch 44/50, Average Loss: 0.1945\n",
      "Epoch 45/50, Average Loss: 0.1949\n",
      "Epoch 46/50, Average Loss: 0.1940\n",
      "Epoch 47/50, Average Loss: 0.1924\n",
      "Epoch 48/50, Average Loss: 0.1954\n",
      "Epoch 49/50, Average Loss: 0.2038\n",
      "Epoch 50/50, Average Loss: 0.1916\n"
     ]
    },
    {
     "data": {
      "image/png": "[encoded data removed]",
      "text/plain": [
       "<Figure size 640x480 with 1 Axes>"
      ]
     },
     "metadata": {},
     "output_type": "display_data"
    }
   ],
   "source": [
    "losses = []\n",
    "\n",
    "for epoch in range(num_epochs):\n",
    "    epoch_loss = 0.0\n",
    "    for features, labels in dataloader:\n",
    "        predictions = model(features)\n",
    "        loss = loss_function(predictions, labels.view(-1, 1))\n",
    "\n",
    "        optimizer.zero_grad()\n",
    "        loss.backward()\n",
    "        optimizer.step()\n",
    "\n",
    "        epoch_loss += loss.item()\n",
    "    \n",
    "    avg_loss = epoch_loss / len(dataloader)\n",
    "    losses.append(avg_loss)\n",
    "    print(f\"Epoch {epoch+1}/{num_epochs}, Average Loss: {avg_loss:.4f}\")\n",
    "\n",
    "# Plotting\n",
    "import matplotlib.pyplot as plt\n",
    "plt.plot(losses)\n",
    "plt.xlabel(\"Epoch\")\n",
    "plt.ylabel(\"Loss\")\n",
    "plt.title(\"Training Loss Over Time\")\n",
    "plt.grid(True)\n",
    "plt.show()\n"
   ]
  },
  {
   "cell_type": "code",
   "execution_count": null,
   "id": "17c1b313",
   "metadata": {},
   "outputs": [],
   "source": []
  }
 ],
 "metadata": {
  "kernelspec": {
   "display_name": "Python 3",
   "language": "python",
   "name": "python3"
  },
  "language_info": {
   "codemirror_mode": {
    "name": "ipython",
    "version": 3
   },
   "file_extension": ".py",
   "mimetype": "text/x-python",
   "name": "python",
   "nbconvert_exporter": "python",
   "pygments_lexer": "ipython3",
   "version": "3.11.8"
  }
 },
 "nbformat": 4,
 "nbformat_minor": 5
}
