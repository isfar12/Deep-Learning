{
 "cells": [
  {
   "cell_type": "code",
   "execution_count": 1,
   "id": "de49fa2a",
   "metadata": {},
   "outputs": [],
   "source": [
    "import numpy as np\n",
    "import torch \n",
    "import torch.nn as nn"
   ]
  },
  {
   "cell_type": "markdown",
   "id": "7587877e",
   "metadata": {},
   "source": [
    "# WITHOUT Sequential Container"
   ]
  },
  {
   "cell_type": "code",
   "execution_count": 2,
   "id": "21adf044",
   "metadata": {},
   "outputs": [],
   "source": [
    "class MyNN_Class(nn.Module):\n",
    "    def __init__(self,num_features): # defines which classes and modules will be used in the structure\n",
    "        super().__init__()\n",
    "\n",
    "        self.linear=nn.Linear(num_features,3)\n",
    "        self.relu=nn.ReLU()\n",
    "        self.linear2=nn.Linear(3,1)\n",
    "        self.sigmoid=nn.Sigmoid()\n",
    "\n",
    "\n",
    "    def forward(self,features): #defines the flow of the model, from which layer to which layer\n",
    "\n",
    "        out=self.linear(features)\n",
    "        out=self.relu(out)\n",
    "        out=self.linear2(out)\n",
    "        out=self.sigmoid(out)\n",
    "\n",
    "        return out\n",
    "    "
   ]
  },
  {
   "cell_type": "markdown",
   "id": "06d656af",
   "metadata": {},
   "source": [
    "# With Sequential Container"
   ]
  },
  {
   "cell_type": "code",
   "execution_count": null,
   "id": "2a6f920a",
   "metadata": {},
   "outputs": [],
   "source": [
    "class MyNN_Class2(nn.Module):\n",
    "    def __init__(self,num_features): # defines which classes and modules will be used in the structure\n",
    "        super().__init__()\n",
    "        self.network=nn.Sequential(\n",
    "        nn.Linear(num_features,3),\n",
    "        nn.ReLU(),\n",
    "        nn.Linear(3,1),\n",
    "        nn.Sigmoid(),\n",
    "        )\n",
    "\n",
    "\n",
    "    def forward(self,features): #defines the flow of the model, from which layer to which layer\n",
    "\n",
    "        out=self.network(features)\n",
    "\n",
    "        return out\n",
    "    "
   ]
  },
  {
   "cell_type": "code",
   "execution_count": 30,
   "id": "d95e1607",
   "metadata": {},
   "outputs": [],
   "source": [
    "from sklearn.model_selection import train_test_split\n",
    "\n",
    "# Generating some data (already provided by you)\n",
    "data = torch.rand(100, 10)\n",
    "test = torch.rand(10, 10)\n",
    "\n",
    "# Assuming the last column of data is for labels\n",
    "X = data[:, :-1]  # Input features (all columns except last one)\n",
    "y = data[:, -1]   # Labels (last column)\n",
    "\n",
    "# Split the dataset into training and validation sets\n",
    "X_train, X_test, y_train, y_test = train_test_split(X, y, test_size=0.2, random_state=42)"
   ]
  },
  {
   "cell_type": "code",
   "execution_count": 50,
   "id": "30e4a191",
   "metadata": {},
   "outputs": [],
   "source": [
    "model=MyNN_Class2(X_train.shape[1])"
   ]
  },
  {
   "cell_type": "code",
   "execution_count": 51,
   "id": "eb153cc1",
   "metadata": {},
   "outputs": [
    {
     "data": {
      "text/plain": [
       "Parameter containing:\n",
       "tensor([[-0.3214, -0.0997,  0.1139,  0.1062, -0.2538, -0.0293,  0.0857, -0.0866,\n",
       "          0.0628],\n",
       "        [ 0.0774, -0.1426,  0.0295,  0.1881, -0.0539, -0.1329, -0.2863, -0.0241,\n",
       "         -0.1651],\n",
       "        [-0.1429, -0.1057,  0.0191, -0.1362, -0.3220,  0.1647,  0.0355, -0.0601,\n",
       "          0.0986]], requires_grad=True)"
      ]
     },
     "execution_count": 51,
     "metadata": {},
     "output_type": "execute_result"
    }
   ],
   "source": [
    "linear1 = model.network[0]\n",
    "linear1.weight"
   ]
  },
  {
   "cell_type": "code",
   "execution_count": 52,
   "id": "5d53d5af",
   "metadata": {},
   "outputs": [
    {
     "data": {
      "text/plain": [
       "==========================================================================================\n",
       "Layer (type:depth-idx)                   Output Shape              Param #\n",
       "==========================================================================================\n",
       "MyNN_Class2                              [80, 1]                   --\n",
       "├─Sequential: 1-1                        [80, 1]                   --\n",
       "│    └─Linear: 2-1                       [80, 3]                   30\n",
       "│    └─ReLU: 2-2                         [80, 3]                   --\n",
       "│    └─Linear: 2-3                       [80, 1]                   4\n",
       "│    └─Sigmoid: 2-4                      [80, 1]                   --\n",
       "==========================================================================================\n",
       "Total params: 34\n",
       "Trainable params: 34\n",
       "Non-trainable params: 0\n",
       "Total mult-adds (Units.MEGABYTES): 0.00\n",
       "==========================================================================================\n",
       "Input size (MB): 0.00\n",
       "Forward/backward pass size (MB): 0.00\n",
       "Params size (MB): 0.00\n",
       "Estimated Total Size (MB): 0.01\n",
       "=========================================================================================="
      ]
     },
     "execution_count": 52,
     "metadata": {},
     "output_type": "execute_result"
    }
   ],
   "source": [
    "from torchinfo import summary\n",
    "\n",
    "summary(model,input_size=X_train.shape)"
   ]
  },
  {
   "cell_type": "code",
   "execution_count": 37,
   "id": "791929d1",
   "metadata": {},
   "outputs": [],
   "source": [
    "class TestModel(nn.Module):\n",
    "    def __init__(self, n_features):\n",
    "        super().__init__()\n",
    "\n",
    "        self.linear1=nn.Linear(in_features=n_features,out_features=3)\n",
    "        self.relu=nn.ReLU()\n",
    "        self.linear2=nn.Linear(in_features=3,out_features=1)\n",
    "        self.sigmoid=nn.Sigmoid()\n",
    "\n",
    "    def forward(self,n_features):\n",
    "        out=self.linear1(n_features)\n",
    "        out=self.relu(out)\n",
    "        out=self.linear2(out)\n",
    "        out=self.sigmoid(out)\n",
    "\n",
    "        return out"
   ]
  },
  {
   "cell_type": "code",
   "execution_count": 53,
   "id": "808b72d1",
   "metadata": {},
   "outputs": [],
   "source": [
    "# Instantiate model\n",
    "\n",
    "model3=TestModel(X_train.shape[1])"
   ]
  },
  {
   "cell_type": "code",
   "execution_count": 44,
   "id": "6aa9e265",
   "metadata": {},
   "outputs": [
    {
     "data": {
      "text/plain": [
       "==========================================================================================\n",
       "Layer (type:depth-idx)                   Output Shape              Param #\n",
       "==========================================================================================\n",
       "TestModel                                [80, 1]                   --\n",
       "├─Linear: 1-1                            [80, 3]                   30\n",
       "├─ReLU: 1-2                              [80, 3]                   --\n",
       "├─Linear: 1-3                            [80, 1]                   4\n",
       "├─Sigmoid: 1-4                           [80, 1]                   --\n",
       "==========================================================================================\n",
       "Total params: 34\n",
       "Trainable params: 34\n",
       "Non-trainable params: 0\n",
       "Total mult-adds (Units.MEGABYTES): 0.00\n",
       "==========================================================================================\n",
       "Input size (MB): 0.00\n",
       "Forward/backward pass size (MB): 0.00\n",
       "Params size (MB): 0.00\n",
       "Estimated Total Size (MB): 0.01\n",
       "=========================================================================================="
      ]
     },
     "execution_count": 44,
     "metadata": {},
     "output_type": "execute_result"
    }
   ],
   "source": [
    "summary(model3,input_size=X_train.shape)"
   ]
  },
  {
   "cell_type": "code",
   "execution_count": 56,
   "id": "ec55dfb3",
   "metadata": {},
   "outputs": [
    {
     "data": {
      "text/plain": [
       "<generator object Module.parameters at 0x000001CF3AF9BBC0>"
      ]
     },
     "execution_count": 56,
     "metadata": {},
     "output_type": "execute_result"
    }
   ],
   "source": [
    "model3.parameters()"
   ]
  },
  {
   "cell_type": "code",
   "execution_count": 45,
   "id": "0db7a5c2",
   "metadata": {},
   "outputs": [],
   "source": [
    "epochs=20\n",
    "lr=.001\n",
    "\n",
    "loss_function=nn.BCELoss()\n",
    "\n",
    "optimizer=torch.optim.Adam(model3.parameters(),lr=lr)"
   ]
  },
  {
   "cell_type": "code",
   "execution_count": null,
   "id": "b92e20d8",
   "metadata": {},
   "outputs": [
    {
     "name": "stdout",
     "output_type": "stream",
     "text": [
      "Epoch 0 Loss 0.6988570094108582\n",
      "Epoch 1 Loss 0.6987180709838867\n",
      "Epoch 2 Loss 0.6985819339752197\n",
      "Epoch 3 Loss 0.698447585105896\n",
      "Epoch 4 Loss 0.6983195543289185\n",
      "Epoch 5 Loss 0.6981958150863647\n",
      "Epoch 6 Loss 0.6980745196342468\n",
      "Epoch 7 Loss 0.6979614496231079\n",
      "Epoch 8 Loss 0.6978502869606018\n",
      "Epoch 9 Loss 0.6977426409721375\n",
      "Epoch 10 Loss 0.6976393461227417\n",
      "Epoch 11 Loss 0.6975404620170593\n",
      "Epoch 12 Loss 0.6974481344223022\n",
      "Epoch 13 Loss 0.697360634803772\n",
      "Epoch 14 Loss 0.6972793340682983\n",
      "Epoch 15 Loss 0.6972042322158813\n",
      "Epoch 16 Loss 0.6971270442008972\n",
      "Epoch 17 Loss 0.6970491409301758\n",
      "Epoch 18 Loss 0.6969672441482544\n",
      "Epoch 19 Loss 0.6968796253204346\n"
     ]
    }
   ],
   "source": [
    "\n",
    "for epoch in range(epochs):\n",
    "    \n",
    "    # Predict the values first\n",
    "    y_pred=model3(X_train)\n",
    "    # Calculate the losses of prediction\n",
    "    loss=loss_function(y_pred,y_train.view(-1,1))\n",
    "    # Run the optimizer to clear gradients before bakcpropagation\n",
    "    optimizer.zero_grad()\n",
    "    # Run backpropagation\n",
    "    loss.backward()\n",
    "    # Then run the optimizer to tune parameters\n",
    "    optimizer.step()\n",
    "    \n",
    "\n",
    "    print(f\"Epoch {epoch} Loss {loss.item()}\")\n"
   ]
  },
  {
   "cell_type": "code",
   "execution_count": null,
   "id": "9ddbf36a",
   "metadata": {},
   "outputs": [],
   "source": []
  }
 ],
 "metadata": {
  "kernelspec": {
   "display_name": "Python 3",
   "language": "python",
   "name": "python3"
  },
  "language_info": {
   "codemirror_mode": {
    "name": "ipython",
    "version": 3
   },
   "file_extension": ".py",
   "mimetype": "text/x-python",
   "name": "python",
   "nbconvert_exporter": "python",
   "pygments_lexer": "ipython3",
   "version": "3.11.8"
  }
 },
 "nbformat": 4,
 "nbformat_minor": 5
}
