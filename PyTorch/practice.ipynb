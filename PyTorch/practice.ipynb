{
 "cells": [
  {
   "cell_type": "code",
   "execution_count": 26,
   "id": "d3a649d2",
   "metadata": {},
   "outputs": [],
   "source": [
    "import torch.nn as nn\n",
    "import torch"
   ]
  },
  {
   "cell_type": "code",
   "execution_count": 27,
   "id": "76d0f747",
   "metadata": {},
   "outputs": [],
   "source": [
    "class MY_NN(nn.Module):\n",
    "    def __init__(self,feature_num):\n",
    "        super().__init__()\n",
    "\n",
    "        self.linear1=nn.Linear(in_features=feature_num,out_features=3)\n",
    "        self.relu=nn.ReLU()\n",
    "        self.linear2=nn.Linear(in_features=3,out_features=1)\n",
    "        self.sigmoid=nn.Sigmoid()\n",
    "\n",
    "    def forward(self,n_features):\n",
    "        out=self.linear1(n_features)\n",
    "        out=self.relu(out)\n",
    "        out=self.linear2(out)\n",
    "        out=self.sigmoid(out)\n",
    "\n",
    "        return out"
   ]
  },
  {
   "cell_type": "code",
   "execution_count": 28,
   "id": "1b5110ee",
   "metadata": {},
   "outputs": [],
   "source": [
    "from sklearn.model_selection import train_test_split\n",
    "data = torch.rand(100, 10)\n",
    "test = torch.rand(10, 10)\n",
    "\n",
    "# Input features (all columns except last one)\n",
    "X = data[:, :-1]\n",
    "y_continuous = data[:, -1]\n",
    "\n",
    "# Convert continuous labels into binary class labels\n",
    "# Threshold: values >= 0.5 → class 1, otherwise class 0\n",
    "y = (y_continuous >= 0.5).float()\n",
    "\n",
    "# Split into training and validation sets\n",
    "X_train, X_test, y_train, y_test = train_test_split(X, y, test_size=0.2, random_state=42)\n"
   ]
  },
  {
   "cell_type": "code",
   "execution_count": 29,
   "id": "d930ed25",
   "metadata": {},
   "outputs": [],
   "source": [
    "model=MY_NN(X_train.shape[1])\n",
    "\n",
    "loss_function=nn.BCELoss()\n",
    "\n",
    "optimizer=torch.optim.Adam(model.parameters(),lr=.001)\n"
   ]
  },
  {
   "cell_type": "code",
   "execution_count": 30,
   "id": "1a6e94f2",
   "metadata": {},
   "outputs": [
    {
     "data": {
      "text/plain": [
       "==========================================================================================\n",
       "Layer (type:depth-idx)                   Output Shape              Param #\n",
       "==========================================================================================\n",
       "MY_NN                                    [80, 1]                   --\n",
       "├─Linear: 1-1                            [80, 3]                   30\n",
       "├─ReLU: 1-2                              [80, 3]                   --\n",
       "├─Linear: 1-3                            [80, 1]                   4\n",
       "├─Sigmoid: 1-4                           [80, 1]                   --\n",
       "==========================================================================================\n",
       "Total params: 34\n",
       "Trainable params: 34\n",
       "Non-trainable params: 0\n",
       "Total mult-adds (Units.MEGABYTES): 0.00\n",
       "==========================================================================================\n",
       "Input size (MB): 0.00\n",
       "Forward/backward pass size (MB): 0.00\n",
       "Params size (MB): 0.00\n",
       "Estimated Total Size (MB): 0.01\n",
       "=========================================================================================="
      ]
     },
     "execution_count": 30,
     "metadata": {},
     "output_type": "execute_result"
    }
   ],
   "source": [
    "from torchinfo import summary\n",
    "\n",
    "summary(model,input_size=X_train.shape)"
   ]
  },
  {
   "cell_type": "code",
   "execution_count": 31,
   "id": "7deaef11",
   "metadata": {},
   "outputs": [
    {
     "name": "stdout",
     "output_type": "stream",
     "text": [
      "Epoch 1  Loss 0.7101302146911621\n",
      "Epoch 2  Loss 0.7100046277046204\n",
      "Epoch 3  Loss 0.7098792791366577\n",
      "Epoch 4  Loss 0.7097543478012085\n",
      "Epoch 5  Loss 0.7096295356750488\n",
      "Epoch 6  Loss 0.7095093727111816\n",
      "Epoch 7  Loss 0.7094021439552307\n",
      "Epoch 8  Loss 0.7092974781990051\n",
      "Epoch 9  Loss 0.7091947793960571\n",
      "Epoch 10  Loss 0.709093451499939\n",
      "Epoch 11  Loss 0.7089864015579224\n",
      "Epoch 12  Loss 0.7088757157325745\n",
      "Epoch 13  Loss 0.7087675929069519\n",
      "Epoch 14  Loss 0.7086593508720398\n",
      "Epoch 15  Loss 0.7085500955581665\n",
      "Epoch 16  Loss 0.7084406614303589\n",
      "Epoch 17  Loss 0.7083312273025513\n",
      "Epoch 18  Loss 0.7082234621047974\n",
      "Epoch 19  Loss 0.7081167101860046\n",
      "Epoch 20  Loss 0.7080099582672119\n",
      "Epoch 21  Loss 0.7079030871391296\n",
      "Epoch 22  Loss 0.7077962160110474\n",
      "Epoch 23  Loss 0.7076894044876099\n",
      "Epoch 24  Loss 0.7075836658477783\n",
      "Epoch 25  Loss 0.7074772119522095\n",
      "Epoch 26  Loss 0.7073696851730347\n",
      "Epoch 27  Loss 0.7072629928588867\n",
      "Epoch 28  Loss 0.7071565985679626\n",
      "Epoch 29  Loss 0.7070510983467102\n",
      "Epoch 30  Loss 0.7069457173347473\n",
      "Epoch 31  Loss 0.7068411707878113\n",
      "Epoch 32  Loss 0.7067370414733887\n",
      "Epoch 33  Loss 0.7066327929496765\n",
      "Epoch 34  Loss 0.7065290808677673\n",
      "Epoch 35  Loss 0.706426203250885\n",
      "Epoch 36  Loss 0.7063234448432922\n",
      "Epoch 37  Loss 0.7062207460403442\n",
      "Epoch 38  Loss 0.7061179280281067\n",
      "Epoch 39  Loss 0.7060072422027588\n",
      "Epoch 40  Loss 0.7058928608894348\n",
      "Epoch 41  Loss 0.7057783603668213\n",
      "Epoch 42  Loss 0.7056626677513123\n",
      "Epoch 43  Loss 0.7055488228797913\n",
      "Epoch 44  Loss 0.7054374814033508\n",
      "Epoch 45  Loss 0.7053257822990417\n",
      "Epoch 46  Loss 0.7052162885665894\n",
      "Epoch 47  Loss 0.7051109671592712\n",
      "Epoch 48  Loss 0.7050047516822815\n",
      "Epoch 49  Loss 0.7048954367637634\n",
      "Epoch 50  Loss 0.7047830820083618\n"
     ]
    }
   ],
   "source": [
    "epochs=50\n",
    "\n",
    "for epoch in range(epochs):\n",
    "\n",
    "    y_pred=model(X_train)\n",
    "\n",
    "    loss = loss_function(y_pred, y_train.view(-1, 1))\n",
    "\n",
    "    optimizer.zero_grad()\n",
    "\n",
    "    loss.backward()\n",
    "\n",
    "    optimizer.step()\n",
    "\n",
    "    print(f\"Epoch {epoch+1}  Loss {loss.item()}\")"
   ]
  },
  {
   "cell_type": "code",
   "execution_count": 32,
   "id": "c14e1650",
   "metadata": {},
   "outputs": [
    {
     "data": {
      "text/plain": [
       "69.9999988079071"
      ]
     },
     "execution_count": 32,
     "metadata": {},
     "output_type": "execute_result"
    }
   ],
   "source": [
    "with torch.no_grad():\n",
    "    y_pred = model.forward(X_test)\n",
    "    y_pred = (y_pred > 0.5).float()  # Thresholding at 0.5\n",
    "    accuracy = (y_pred == y_test).float().mean()\n",
    "    accuracy_percentage = accuracy.item() * 100\n",
    "\n",
    "accuracy_percentage"
   ]
  },
  {
   "cell_type": "code",
   "execution_count": null,
   "id": "96ad2475",
   "metadata": {},
   "outputs": [],
   "source": [
    "import torch\n",
    "from torch.nn import Module, Linear, ReLU, Sigmoid\n",
    "\n",
    "class My_NN(Module):\n",
    "    def __init__(self,feature_num):\n",
    "        super().__init__()\n",
    "\n",
    "        self.l1=Linear(in_features=feature_num,out_features=3)\n",
    "        self.relu=ReLU()\n",
    "        self.l2=Linear(in_features=3,out_features=1)\n",
    "        self.sigmoid=Sigmoid()  \n",
    "\n",
    "    def forward(self,n_features):\n",
    "        out=self.l1(n_features)\n",
    "        out=self.relu(out)\n",
    "        out=self.l2(out)\n",
    "        out=self.sigmoid(out)\n",
    "\n",
    "        return out\n",
    "    \n"
   ]
  },
  {
   "cell_type": "code",
   "execution_count": 6,
   "id": "122404d6",
   "metadata": {},
   "outputs": [],
   "source": [
    "from sklearn.datasets import make_classification\n",
    "from sklearn.model_selection import train_test_split\n",
    "\n",
    "X, y = make_classification(n_samples=100, n_features=10, n_classes=2, random_state=42)\n",
    "\n",
    "X_train, X_test, y_train, y_test = train_test_split(X, y, test_size=0.2, random_state=42)\n",
    "X_train=torch.tensor(X_train, dtype=torch.float32)\n",
    "y_train=torch.tensor(y_train, dtype=torch.float32)\n",
    "X_test=torch.tensor(X_test, dtype=torch.float32)\n",
    "y_test=torch.tensor(y_test, dtype=torch.float32)\n"
   ]
  },
  {
   "cell_type": "code",
   "execution_count": 7,
   "id": "de232361",
   "metadata": {},
   "outputs": [],
   "source": [
    "model=My_NN(X_train.shape[1])\n",
    "\n",
    "\n",
    "loss_function=torch.nn.BCELoss()\n",
    "\n",
    "\n",
    "optimizer=torch.optim.Adam(model.parameters(),lr=.001)"
   ]
  },
  {
   "cell_type": "code",
   "execution_count": 8,
   "id": "25dd2a5c",
   "metadata": {},
   "outputs": [
    {
     "name": "stdout",
     "output_type": "stream",
     "text": [
      "Epoch 1  Loss 0.7734037637710571\n",
      "Epoch 2  Loss 0.7717889547348022\n",
      "Epoch 3  Loss 0.7701802253723145\n",
      "Epoch 4  Loss 0.7685831785202026\n",
      "Epoch 5  Loss 0.7670101523399353\n",
      "Epoch 6  Loss 0.7654505968093872\n",
      "Epoch 7  Loss 0.763900876045227\n",
      "Epoch 8  Loss 0.7623631358146667\n",
      "Epoch 9  Loss 0.7608319520950317\n",
      "Epoch 10  Loss 0.7593084573745728\n",
      "Epoch 11  Loss 0.7578219175338745\n",
      "Epoch 12  Loss 0.7563427090644836\n",
      "Epoch 13  Loss 0.7548704147338867\n",
      "Epoch 14  Loss 0.7534050345420837\n",
      "Epoch 15  Loss 0.7519528269767761\n",
      "Epoch 16  Loss 0.7504956722259521\n",
      "Epoch 17  Loss 0.7490439414978027\n",
      "Epoch 18  Loss 0.7475979328155518\n",
      "Epoch 19  Loss 0.7461580038070679\n",
      "Epoch 20  Loss 0.7447239756584167\n"
     ]
    }
   ],
   "source": [
    "epochs=20\n",
    "\n",
    "for epoch in range(epochs):\n",
    "\n",
    "    y_pred=model(X_train)\n",
    "\n",
    "    loss=loss_function(y_pred,y_train.view(-1,1))\n",
    "\n",
    "    optimizer.zero_grad()\n",
    "    loss.backward()\n",
    "    optimizer.step()\n",
    "    print(f\"Epoch {epoch+1}  Loss {loss.item()}\")\n",
    "\n",
    "    \n",
    "    "
   ]
  },
  {
   "cell_type": "code",
   "execution_count": 9,
   "id": "cc7ea455",
   "metadata": {},
   "outputs": [],
   "source": [
    "from torch.utils.data import DataLoader,Dataset\n",
    "\n",
    "\n",
    "class MyDataset(Dataset):\n",
    "    def __init__(self,x,y):\n",
    "        self.x=x\n",
    "        self.y=y\n",
    "    def __len__(self):\n",
    "        return len(self.x)\n",
    "    def __getitem__(self, idx):\n",
    "        return self.x[idx], self.y[idx]\n",
    "    \n",
    "    "
   ]
  },
  {
   "cell_type": "code",
   "execution_count": null,
   "id": "54cbeac0",
   "metadata": {},
   "outputs": [],
   "source": [
    "dataloader=DataLoader(MyDataset(X_train,y_train),batch_size=10,shuffle=True,)"
   ]
  },
  {
   "cell_type": "code",
   "execution_count": 11,
   "id": "cf171b2d",
   "metadata": {},
   "outputs": [
    {
     "name": "stdout",
     "output_type": "stream",
     "text": [
      "Epoch 1  Loss 0.7107361555099487\n",
      "Epoch 2  Loss 0.7398755550384521\n",
      "Epoch 3  Loss 0.7418287396430969\n",
      "Epoch 4  Loss 0.7822635769844055\n",
      "Epoch 5  Loss 0.7320981025695801\n",
      "Epoch 6  Loss 0.7388704419136047\n",
      "Epoch 7  Loss 0.5976662039756775\n",
      "Epoch 8  Loss 0.6711703538894653\n",
      "Epoch 9  Loss 0.6252409219741821\n",
      "Epoch 10  Loss 0.6474775075912476\n",
      "Epoch 11  Loss 0.6556299924850464\n",
      "Epoch 12  Loss 0.6306976675987244\n",
      "Epoch 13  Loss 0.6902467012405396\n",
      "Epoch 14  Loss 0.6252766847610474\n",
      "Epoch 15  Loss 0.6036301851272583\n",
      "Epoch 16  Loss 0.6060465574264526\n",
      "Epoch 17  Loss 0.6355440020561218\n",
      "Epoch 18  Loss 0.6264938116073608\n",
      "Epoch 19  Loss 0.5598936080932617\n",
      "Epoch 20  Loss 0.6159477233886719\n"
     ]
    }
   ],
   "source": [
    "for epoch in range(epochs):\n",
    "    for x,y in dataloader:\n",
    "        y_pred=model(x)\n",
    "\n",
    "        loss=loss_function(y_pred,y.view(-1,1))\n",
    "\n",
    "        optimizer.zero_grad()\n",
    "        loss.backward()\n",
    "        optimizer.step()\n",
    "    print(f\"Epoch {epoch+1}  Loss {loss.item()}\")"
   ]
  },
  {
   "cell_type": "code",
   "execution_count": null,
   "id": "3c541fe4",
   "metadata": {},
   "outputs": [
    {
     "ename": "ImportError",
     "evalue": "cannot import name 'Module' from 'tensorflow.keras' (c:\\Users\\Lenovo\\AppData\\Local\\Programs\\Python\\Python311\\Lib\\site-packages\\keras\\_tf_keras\\keras\\__init__.py)",
     "output_type": "error",
     "traceback": [
      "\u001b[1;31m---------------------------------------------------------------------------\u001b[0m",
      "\u001b[1;31mImportError\u001b[0m                               Traceback (most recent call last)",
      "Cell \u001b[1;32mIn[12], line 2\u001b[0m\n\u001b[0;32m      1\u001b[0m \u001b[38;5;28;01mimport\u001b[39;00m\u001b[38;5;250m \u001b[39m\u001b[38;5;21;01mtensorflow\u001b[39;00m\u001b[38;5;250m \u001b[39m\u001b[38;5;28;01mas\u001b[39;00m\u001b[38;5;250m \u001b[39m\u001b[38;5;21;01mtf\u001b[39;00m\n\u001b[1;32m----> 2\u001b[0m \u001b[38;5;28;01mfrom\u001b[39;00m\u001b[38;5;250m \u001b[39m\u001b[38;5;21;01mtensorflow\u001b[39;00m\u001b[38;5;21;01m.\u001b[39;00m\u001b[38;5;21;01mkeras\u001b[39;00m\u001b[38;5;250m \u001b[39m\u001b[38;5;28;01mimport\u001b[39;00m Module, Linear, ReLU, Sigmoid\n",
      "\u001b[1;31mImportError\u001b[0m: cannot import name 'Module' from 'tensorflow.keras' (c:\\Users\\Lenovo\\AppData\\Local\\Programs\\Python\\Python311\\Lib\\site-packages\\keras\\_tf_keras\\keras\\__init__.py)"
     ]
    }
   ],
   "source": [
    "import tensorflow as tf\n",
    "from tensorflow.keras import Model \n",
    "from tensorflow.keras.layers import Dense, Input, ReLU, Sigmoid\n",
    "\n",
    "\n",
    "class My_TensNN(Model):\n",
    "    def __init__(self, feature_num):\n",
    "        super(My_TensNN, self).__init__()\n",
    "        self.l1=Dense()\n"
   ]
  },
  {
   "cell_type": "code",
   "execution_count": null,
   "id": "d742fde7",
   "metadata": {},
   "outputs": [],
   "source": []
  }
 ],
 "metadata": {
  "kernelspec": {
   "display_name": "Python 3",
   "language": "python",
   "name": "python3"
  },
  "language_info": {
   "codemirror_mode": {
    "name": "ipython",
    "version": 3
   },
   "file_extension": ".py",
   "mimetype": "text/x-python",
   "name": "python",
   "nbconvert_exporter": "python",
   "pygments_lexer": "ipython3",
   "version": "3.11.8"
  }
 },
 "nbformat": 4,
 "nbformat_minor": 5
}
